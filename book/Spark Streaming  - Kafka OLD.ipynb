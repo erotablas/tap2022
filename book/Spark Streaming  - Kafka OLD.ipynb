{
 "cells": [
  {
   "cell_type": "markdown",
   "metadata": {
    "slideshow": {
     "slide_type": "slide"
    }
   },
   "source": [
    "![image.png](https://miro.medium.com/max/1400/1*5rairMYDqDpTmzytnqpYnQ.jpeg)\n",
    "[Medium](https://medium.com/@naivetech/the-connection-between-spark-streaming-and-apache-kafka-with-java-9fcdc701a8ad)"
   ]
  },
  {
   "cell_type": "markdown",
   "metadata": {
    "slideshow": {
     "slide_type": "slide"
    }
   },
   "source": [
    "<div class=\"jumbotron\">\n",
    "    <center>\n",
    "        <h1>Kafka Data Source for Spark</h1>\n",
    "    </center>\n",
    "</div>"
   ]
  },
  {
   "cell_type": "markdown",
   "metadata": {
    "slideshow": {
     "slide_type": "subslide"
    }
   },
   "source": [
    "https://spark.apache.org/docs/latest/streaming-kafka-integration.html\n",
    "\n",
    "The Kafka project introduced a new consumer API between versions 0.8 and 0.10, so there are 2 separate corresponding Spark Streaming packages available. Please choose the correct package for your brokers and desired features; note that the 0.8 integration is compatible with later 0.9 and 0.10 brokers, but the 0.10 integration is not compatible with earlier brokers.\n",
    "\n",
    "Note: Kafka 0.8 support is deprecated as of Spark 2.3.0."
   ]
  },
  {
   "cell_type": "markdown",
   "metadata": {
    "slideshow": {
     "slide_type": "subslide"
    }
   },
   "source": [
    "\n",
    "|                            | spark-streaming-kafka-0-8 | spark-streaming-kafka-0-10 |\n",
    "|----------------------------|---------------------------|----------------------------|\n",
    "| Broker Version             | 0.8.2.1 or higher         | 0.10.0 or higher           |\n",
    "| API Maturity               | Deprecated                | Stable                     |\n",
    "| Language Support           | Scala, Java, Python       | Scala, Java                |\n",
    "| Receiver DStream           | Yes                       | No                         |\n",
    "| Direct DStream             | Yes                       | Yes                        |\n",
    "| SSL / TLS Support          | No                        | Yes                        |\n",
    "| Offset Commit API          | No                        | Yes                        |\n",
    "| Dynamic Topic Subscription | No                        | Yes                        |"
   ]
  },
  {
   "cell_type": "markdown",
   "metadata": {
    "slideshow": {
     "slide_type": "slide"
    }
   },
   "source": [
    "# spark-streaming-kafka-0-8\t"
   ]
  },
  {
   "cell_type": "markdown",
   "metadata": {
    "slideshow": {
     "slide_type": "subslide"
    }
   },
   "source": [
    "![image.png](https://i.imgflip.com/3zkuk4.jpg)\n",
    "[NicsMeme](https://imgflip.com/i/3zkuk4)"
   ]
  },
  {
   "cell_type": "markdown",
   "metadata": {
    "slideshow": {
     "slide_type": "subslide"
    }
   },
   "source": [
    "## Receiver-based Approach"
   ]
  },
  {
   "cell_type": "markdown",
   "metadata": {
    "slideshow": {
     "slide_type": "subslide"
    }
   },
   "source": [
    "This approach uses a Receiver to receive the data. \n",
    "\n",
    "The Receiver is implemented using the Kafka high-level consumer API. As with all receivers, the data received from Kafka through a Receiver is stored in Spark executors, and then jobs launched by Spark Streaming processes the data."
   ]
  },
  {
   "cell_type": "markdown",
   "metadata": {
    "slideshow": {
     "slide_type": "subslide"
    }
   },
   "source": [
    "<img src=\"data:image/png;base64,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\" style=\"cursor:pointer;max-width:100%;\" onclick=\"(function(img){if(img.wnd!=null&&!img.wnd.closed){img.wnd.focus();}else{var r=function(evt){if(evt.data=='ready'&&evt.source==img.wnd){img.wnd.postMessage(decodeURIComponent(img.getAttribute('src')),'*');window.removeEventListener('message',r);}};window.addEventListener('message',r);img.wnd=window.open('https://app.diagrams.net/?client=1&lightbox=1&edit=_blank');}})(this);\"/>"
   ]
  },
  {
   "cell_type": "markdown",
   "metadata": {
    "slideshow": {
     "slide_type": "subslide"
    }
   },
   "source": [
    "### Linking\n",
    "For Scala/Java applications using SBT/Maven project definitions, link your streaming application with the following artifact (see Linking section in the main programming guide for further information).\n",
    "\n",
    " groupId = org.apache.spark\n",
    " artifactId = spark-streaming-kafka_2.10\n",
    " version = 1.4.1\n",
    " \n",
    "For Python applications, you will have to add this above library and its dependencies when deploying your application. "
   ]
  },
  {
   "cell_type": "markdown",
   "metadata": {
    "slideshow": {
     "slide_type": "subslide"
    }
   },
   "source": [
    "### Programming\n",
    "```python\n",
    "from pyspark.streaming.kafka import KafkaUtils\n",
    " kafkaStream = KafkaUtils.createStream(streamingContext, \\\n",
    "     [ZK quorum], [consumer group id], [per-topic number of Kafka partitions to consume])\n",
    "```\n",
    "By default, the Python API will decode Kafka data as UTF8 encoded strings. You can specify your custom decoding function to decode the byte arrays in Kafka records to any arbitrary data type. See the API docs and the example."
   ]
  },
  {
   "cell_type": "markdown",
   "metadata": {
    "slideshow": {
     "slide_type": "subslide"
    }
   },
   "source": [
    "Points to remember:"
   ]
  },
  {
   "cell_type": "markdown",
   "metadata": {
    "slideshow": {
     "slide_type": "fragment"
    }
   },
   "source": [
    "Topic partitions in Kafka does not correlate to partitions of RDDs generated in Spark Streaming. \n",
    "So increasing the number of topic-specific partitions in the KafkaUtils.createStream() only increases the number of threads using which topics that are consumed within a single receiver. It does not increase the parallelism of Spark in processing the data. Refer to the main document for more information on that."
   ]
  },
  {
   "cell_type": "markdown",
   "metadata": {
    "slideshow": {
     "slide_type": "fragment"
    }
   },
   "source": [
    "Multiple Kafka input DStreams can be created with different groups and topics for parallel receiving of data using multiple receivers."
   ]
  },
  {
   "cell_type": "markdown",
   "metadata": {
    "slideshow": {
     "slide_type": "fragment"
    }
   },
   "source": [
    "If you have enabled Write Ahead Logs with a replicated file system like HDFS, the received data is already being replicated in the log. Hence, the storage level in storage level for the input stream to StorageLevel.MEMORY_AND_DISK_SER (that is, use KafkaUtils.createStream(..., StorageLevel.MEMORY_AND_DISK_SER))."
   ]
  },
  {
   "cell_type": "markdown",
   "metadata": {
    "slideshow": {
     "slide_type": "subslide"
    }
   },
   "source": [
    "### Deploying\n",
    "\n",
    "As with any Spark applications, spark-submit is used to launch your application. However, the details are slightly different for Scala/Java applications and Python applications.\n",
    "\n",
    "For Scala and Java applications, if you are using SBT or Maven for project management, then package spark-streaming-kafka-0-8_2.12 and its dependencies into the application JAR. Make sure spark-core_2.12 and spark-streaming_2.12 are marked as provided dependencies as those are already present in a Spark installation. Then use spark-submit to launch your application (see Deploying section in the main programming guide).\n",
    "\n",
    "For Python applications which lack SBT/Maven project management, spark-streaming-kafka-0-8_2.12 and its dependencies can be directly added to spark-submit using --packages (see Application Submission Guide). That is,\n",
    "```bash\n",
    " ./bin/spark-submit --packages org.apache.spark:spark-streaming-kafka-0-8_2.12:2.4.5 ...\n",
    " ```\n",
    "Alternatively, you can also download the JAR of the Maven artifact spark-streaming-kafka-0-8-assembly from the Maven repository and add it to spark-submit with --jars."
   ]
  },
  {
   "cell_type": "markdown",
   "metadata": {
    "slideshow": {
     "slide_type": "subslide"
    }
   },
   "source": [
    "## Demo"
   ]
  },
  {
   "cell_type": "markdown",
   "metadata": {
    "slideshow": {
     "slide_type": "subslide"
    }
   },
   "source": [
    "```bash\n",
    "# Start Zookeeper\n",
    "./kafkaStartZk.sh\n",
    "# Start Kafka Server\n",
    "./kafkaStartServer.sh\n",
    "#  Start Spark Streaming\n",
    "./sparkSubmitPython.sh kafka_wordcount.py org.apache.spark:spark-streaming-kafka-0-8_2.11:2.4.5\n",
    "\n",
    "./sparkSubmitPython.sh kafka_wordcount2.py org.apache.spark:spark-sql-kafka-0-10_2.12:3.1.1\n",
    "# Start Producer\n",
    "./kafkaCreateProducer.sh\n",
    "```"
   ]
  },
  {
   "cell_type": "markdown",
   "metadata": {
    "slideshow": {
     "slide_type": "subslide"
    }
   },
   "source": [
    "# Direct Approach (No Receivers)"
   ]
  },
  {
   "cell_type": "markdown",
   "metadata": {
    "slideshow": {
     "slide_type": "subslide"
    }
   },
   "source": [
    "This new receiver-less “direct” approach has been introduced in Spark 1.3 to ensure stronger end-to-end guarantees. "
   ]
  },
  {
   "cell_type": "markdown",
   "metadata": {
    "slideshow": {
     "slide_type": "fragment"
    }
   },
   "source": [
    "Instead of using receivers to receive data, this approach periodically queries Kafka for the latest offsets in each topic+partition, and accordingly defines the offset ranges to process in each batch."
   ]
  },
  {
   "cell_type": "markdown",
   "metadata": {
    "slideshow": {
     "slide_type": "fragment"
    }
   },
   "source": [
    "When the jobs to process the data are launched, Kafka’s simple consumer API is used to read the defined ranges of offsets from Kafka (similar to read files from a file system). "
   ]
  },
  {
   "cell_type": "markdown",
   "metadata": {
    "slideshow": {
     "slide_type": "fragment"
    }
   },
   "source": [
    "Note that this feature was introduced in Spark 1.3 for the Scala and Java API, in Spark 1.4 for the Python API."
   ]
  },
  {
   "cell_type": "markdown",
   "metadata": {
    "slideshow": {
     "slide_type": "fragment"
    }
   },
   "source": [
    "This approach has the following advantages over the receiver-based approach (i.e. Approach 1)."
   ]
  },
  {
   "cell_type": "markdown",
   "metadata": {
    "slideshow": {
     "slide_type": "subslide"
    }
   },
   "source": [
    "**Simplified Parallelism**\n",
    "\n",
    "No need to create multiple input Kafka streams and union them. \n",
    "\n",
    "With directStream, Spark Streaming will create as many RDD partitions as there are Kafka partitions to consume, which will all read data from Kafka in parallel. \n",
    "\n",
    "So there is a one-to-one mapping between Kafka and RDD partitions, which is easier to understand and tune."
   ]
  },
  {
   "cell_type": "markdown",
   "metadata": {
    "slideshow": {
     "slide_type": "subslide"
    }
   },
   "source": [
    "**Efficiency**\n",
    "\n",
    "Achieving zero-data loss in the first approach required the data to be stored in a Write-Ahead Log, which further replicated the data. \n",
    "\n",
    "This is actually inefficient as the data effectively gets replicated twice - once by Kafka, and a second time by the Write-Ahead Log. \n",
    "\n",
    "This second approach eliminates the problem as there is no receiver, and hence no need for Write-Ahead Logs. \n",
    "\n",
    "As long as you have sufficient Kafka retention, messages can be recovered from Kafka."
   ]
  },
  {
   "cell_type": "markdown",
   "metadata": {
    "slideshow": {
     "slide_type": "subslide"
    }
   },
   "source": [
    "**Exactly-once semantics**\n",
    "\n",
    "The first approach uses Kafka’s high-level API to store consumed offsets in Zookeeper. \n",
    "This is traditionally the way to consume data from Kafka. \n",
    "While this approach (in combination with-write-ahead logs) can ensure zero data loss (i.e. at-least once semantics), there is a small chance some records may get consumed twice under some failures. \n",
    "This occurs because of inconsistencies between data reliably received by Spark Streaming and offsets tracked by Zookeeper. "
   ]
  },
  {
   "cell_type": "markdown",
   "metadata": {
    "slideshow": {
     "slide_type": "fragment"
    }
   },
   "source": [
    "Hence, in this second approach, we use simple Kafka API that does not use Zookeeper. Offsets are tracked by Spark Streaming within its checkpoints. This eliminates inconsistencies between Spark Streaming and Zookeeper/Kafka, and so each record is received by Spark Streaming effectively exactly once despite failures. In order to achieve exactly-once semantics for output of your results, your output operation that saves the data to an external data store must be either idempotent, or an atomic transaction that saves results and offsets (see Semantics of output operations in the main programming guide for further information)."
   ]
  },
  {
   "cell_type": "markdown",
   "metadata": {
    "slideshow": {
     "slide_type": "subslide"
    }
   },
   "source": [
    "Note that one disadvantage of this approach is that it does not update offsets in Zookeeper, hence Zookeeper-based Kafka monitoring tools will not show progress. However, you can access the offsets processed by this approach in each batch and update Zookeeper yourself (see below)."
   ]
  },
  {
   "cell_type": "markdown",
   "metadata": {
    "slideshow": {
     "slide_type": "subslide"
    }
   },
   "source": [
    "### Linking\n",
    "This approach is supported only in Scala/Java application. Link your SBT/Maven project with the following artifact (see Linking section in the main programming guide for further information).\n",
    "\n",
    "```properties\n",
    " groupId = org.apache.spark\n",
    " artifactId = spark-streaming-kafka-0-8_2.12\n",
    " version = 2.4.5\n",
    " ```\n",
    " In the streaming application code, import KafkaUtils and create an input DStream as follows."
   ]
  },
  {
   "cell_type": "markdown",
   "metadata": {
    "slideshow": {
     "slide_type": "subslide"
    }
   },
   "source": [
    "### Programming\n",
    "```python\n",
    " from pyspark.streaming.kafka import KafkaUtils\n",
    " directKafkaStream = KafkaUtils.createDirectStream(ssc, [topic], {\"metadata.broker.list\": brokers})\n",
    "```\n",
    "\n",
    "You can also pass a messageHandler to createDirectStream to access KafkaMessageAndMetadata that contains metadata about the current message and transform it to any desired type. By default, the Python API will decode Kafka data as UTF8 encoded strings. You can specify your custom decoding function to decode the byte arrays in Kafka records to any arbitrary data type. See the API docs."
   ]
  },
  {
   "cell_type": "markdown",
   "metadata": {
    "slideshow": {
     "slide_type": "subslide"
    }
   },
   "source": [
    "In the Kafka parameters, you must specify either metadata.broker.list or bootstrap.servers. \n",
    "\n",
    "By default, it will start consuming from the latest offset of each Kafka partition. \n",
    "\n",
    "If you set configuration auto.offset.reset in Kafka parameters to smallest, then it will start consuming from the smallest offset.\n",
    "You can also start consuming from any arbitrary offset using other variations of KafkaUtils.createDirectStream. "
   ]
  },
  {
   "cell_type": "markdown",
   "metadata": {
    "slideshow": {
     "slide_type": "subslide"
    }
   },
   "source": [
    "Furthermore, if you want to access the Kafka offsets consumed in each batch, you can do the following.\n",
    "\n",
    "```python\n",
    " offsetRanges = []\n",
    "\n",
    " def storeOffsetRanges(rdd):\n",
    "     global offsetRanges\n",
    "     offsetRanges = rdd.offsetRanges()\n",
    "     return rdd\n",
    "\n",
    " def printOffsetRanges(rdd):\n",
    "     for o in offsetRanges:\n",
    "         print \"%s %s %s %s\" % (o.topic, o.partition, o.fromOffset, o.untilOffset)\n",
    "\n",
    " directKafkaStream \\\n",
    "     .transform(storeOffsetRanges) \\\n",
    "     .foreachRDD(printOffsetRanges)\n",
    "```\n",
    "\n",
    "You can use this to update Zookeeper yourself if you want Zookeeper-based Kafka monitoring tools to show progress of the streaming application."
   ]
  },
  {
   "cell_type": "markdown",
   "metadata": {
    "slideshow": {
     "slide_type": "subslide"
    }
   },
   "source": [
    "## Deploying ##\n",
    "This is same as the first approach."
   ]
  },
  {
   "cell_type": "markdown",
   "metadata": {
    "slideshow": {
     "slide_type": "subslide"
    }
   },
   "source": [
    "# Demo"
   ]
  },
  {
   "cell_type": "markdown",
   "metadata": {
    "slideshow": {
     "slide_type": "subslide"
    }
   },
   "source": [
    "```bash\n",
    "# Start Zookeeper\n",
    "./kafkaStartZk.sh\n",
    "# Start Kafka Server\n",
    "./kafkaStartServer.sh\n",
    "#  Start Spark Streaming\n",
    "./sparkSubmitPython.sh direct_kafka_wordcount.py org.apache.spark:spark-streaming-kafka-0-8_2.11:2.4.5\n",
    "# Start Producer\n",
    "./kafkaCreateProducer.sh\n",
    "```"
   ]
  },
  {
   "cell_type": "markdown",
   "metadata": {
    "slideshow": {
     "slide_type": "slide"
    }
   },
   "source": [
    "# Flume + Kafka + Python"
   ]
  },
  {
   "cell_type": "markdown",
   "metadata": {
    "slideshow": {
     "slide_type": "subslide"
    }
   },
   "source": [
    "# Draw IO"
   ]
  },
  {
   "cell_type": "markdown",
   "metadata": {
    "slideshow": {
     "slide_type": "subslide"
    }
   },
   "source": [
    "```bash\n",
    "# Start Zookeeper\n",
    "./kafkaStartZk.sh\n",
    "# Start Kafka Server\n",
    "./kafkaStartServer.sh\n",
    "#  Start Spark Streaming\n",
    "./sparkSubmitPython.sh twitter_stream.py org.apache.spark:spark-streaming-kafka-0-8_2.11:2.4.5\n",
    "# Start Producer\n",
    "./flumeTwitterKafka.sh\n",
    "```"
   ]
  },
  {
   "cell_type": "markdown",
   "metadata": {
    "slideshow": {
     "slide_type": "slide"
    }
   },
   "source": [
    "# An example in Java"
   ]
  },
  {
   "cell_type": "markdown",
   "metadata": {
    "slideshow": {
     "slide_type": "subslide"
    }
   },
   "source": [
    "```bash\n",
    "# Compile\n",
    "cd Dev/tap/spark/apps/TapSparkDemo\n",
    "mvn build\n",
    "# Start Zookeeper\n",
    "./kafkaStartZk.sh\n",
    "# Start Kafka Server\n",
    "./kafkaStartServer.sh\n",
    "#  Start Spark Streaming\n",
    "./sparkSubmitApps.sh TapSpark TapSparkDemo/target/simple-project-1.0.jar org.apache.spark:spark-streaming-kafka-0-10_2.11:2.4.5\n",
    "# Start Producer\n",
    "./flumeTwitterKafka.sh\n",
    "```"
   ]
  },
  {
   "cell_type": "markdown",
   "metadata": {
    "slideshow": {
     "slide_type": "slide"
    }
   },
   "source": [
    "## Evolution...\n",
    "* Create action start master \n",
    "* Expose\n",
    "* submit from host \n",
    "https://spark.apache.org/docs/latest/spark-standalone.html"
   ]
  },
  {
   "cell_type": "markdown",
   "metadata": {
    "slideshow": {
     "slide_type": "subslide"
    }
   },
   "source": [
    "# Biblio"
   ]
  },
  {
   "cell_type": "markdown",
   "metadata": {
    "slideshow": {
     "slide_type": "subslide"
    }
   },
   "source": [
    "* https://spark.apache.org/docs/latest/streaming-kafka-integration.html\n",
    "* https://medium.com/@naivetech/the-connection-between-spark-streaming-and-apache-kafka-with-java-9fcdc701a8ad\n",
    "* https://medium.com/@kass09/spark-streaming-kafka-in-python-a-test-on-local-machine-edd47814746\n",
    "* https://medium.com/@mukeshkumar_46704/getting-streaming-data-from-kafka-with-spark-streaming-using-python-9cd0922fa904\n",
    "* https://medium.com/@rinu.gour123/apache-kafka-spark-streaming-integration-af7bd87887fb\n",
    "* https://data-flair.training/blogs/kafka-spark-streaming-integration/\n",
    "* http://davidiscoding.com/real-time-twitter-analysis-3-tweet-analysis-on-spark"
   ]
  },
  {
   "cell_type": "code",
   "execution_count": null,
   "metadata": {},
   "outputs": [],
   "source": []
  }
 ],
 "metadata": {
  "celltoolbar": "Slideshow",
  "kernelspec": {
   "display_name": "Python 3 (ipykernel)",
   "language": "python",
   "name": "python3"
  },
  "language_info": {
   "codemirror_mode": {
    "name": "ipython",
    "version": 3
   },
   "file_extension": ".py",
   "mimetype": "text/x-python",
   "name": "python",
   "nbconvert_exporter": "python",
   "pygments_lexer": "ipython3",
   "version": "3.9.10"
  },
  "rise": {
   "enable_chalkboard": "true",
   "scroll": "true",
   "theme": "simple"
  }
 },
 "nbformat": 4,
 "nbformat_minor": 4
}
