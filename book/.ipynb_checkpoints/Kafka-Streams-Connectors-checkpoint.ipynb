{
 "cells": [
  {
   "cell_type": "markdown",
   "metadata": {
    "slideshow": {
     "slide_type": "slide"
    }
   },
   "source": [
    "# Kafka Streams"
   ]
  },
  {
   "cell_type": "markdown",
   "metadata": {
    "slideshow": {
     "slide_type": "subslide"
    }
   },
   "source": [
    "Kafka Streams is a client library for building mission-critical real-time applications and microservices, where the input and/or output data is stored in Kafka clusters. "
   ]
  },
  {
   "cell_type": "markdown",
   "metadata": {
    "slideshow": {
     "slide_type": "fragment"
    }
   },
   "source": [
    "Kafka Streams combines the simplicity of writing and deploying standard Java and Scala applications on the client side with the benefits of Kafka's server-side cluster technology to make these applications highly scalable, elastic, fault-tolerant, distributed, and much more."
   ]
  },
  {
   "cell_type": "markdown",
   "metadata": {
    "slideshow": {
     "slide_type": "subslide"
    }
   },
   "source": [
    "## Features"
   ]
  },
  {
   "cell_type": "markdown",
   "metadata": {
    "slideshow": {
     "slide_type": "subslide"
    }
   },
   "source": [
    "- Elastic, highly scalable, fault-tolerant"
   ]
  },
  {
   "cell_type": "markdown",
   "metadata": {
    "slideshow": {
     "slide_type": "fragment"
    }
   },
   "source": [
    "- Deploy to containers, VMs, bare metal, cloud"
   ]
  },
  {
   "cell_type": "markdown",
   "metadata": {
    "slideshow": {
     "slide_type": "fragment"
    }
   },
   "source": [
    "- Equally viable for small, medium, & large use cases"
   ]
  },
  {
   "cell_type": "markdown",
   "metadata": {
    "slideshow": {
     "slide_type": "fragment"
    }
   },
   "source": [
    "- Fully integrated with Kafka security"
   ]
  },
  {
   "cell_type": "markdown",
   "metadata": {
    "slideshow": {
     "slide_type": "fragment"
    }
   },
   "source": [
    "- Write standard Java and Scala applications"
   ]
  },
  {
   "cell_type": "markdown",
   "metadata": {
    "slideshow": {
     "slide_type": "fragment"
    }
   },
   "source": [
    "- Exactly-once processing semantics"
   ]
  },
  {
   "cell_type": "markdown",
   "metadata": {
    "slideshow": {
     "slide_type": "fragment"
    }
   },
   "source": [
    "- No separate processing cluster required"
   ]
  },
  {
   "cell_type": "markdown",
   "metadata": {
    "slideshow": {
     "slide_type": "fragment"
    }
   },
   "source": [
    "- Develop on Mac, Linux, Window"
   ]
  },
  {
   "cell_type": "markdown",
   "metadata": {
    "slideshow": {
     "slide_type": "subslide"
    }
   },
   "source": [
    "# Use Cases"
   ]
  },
  {
   "cell_type": "markdown",
   "metadata": {
    "slideshow": {
     "slide_type": "subslide"
    }
   },
   "source": [
    "## The New York Times\n",
    "\n",
    "![](https://kafka.apache.org/images/powered-by/NYT.jpg)\n",
    "\n",
    "The New York Times uses Apache Kafka and the Kafka Streams to store and distribute, in real-time, published content to the various applications and systems that make it available to the readers.\n",
    "\n",
    "[https://open.nytimes.com/publishing-with-apache-kafka-at-the-new-york-times-7f0e3b7d2077]"
   ]
  },
  {
   "cell_type": "markdown",
   "metadata": {
    "slideshow": {
     "slide_type": "subslide"
    }
   },
   "source": [
    "## Real Time Analytics\n",
    "\n",
    "![](https://dzone.com/storage/temp/12275703-kafka-use-case.png)\n",
    "\n",
    "Story: https://dzone.com/articles/real-time-stream-processing-with-apache-kafka-part-1\n",
    "\n",
    "Code: https://github.com/hellosatish/microservice-patterns/tree/master/vehicle-tracker"
   ]
  },
  {
   "cell_type": "markdown",
   "metadata": {
    "slideshow": {
     "slide_type": "slide"
    }
   },
   "source": [
    "# Wordcount"
   ]
  },
  {
   "cell_type": "markdown",
   "metadata": {
    "slideshow": {
     "slide_type": "subslide"
    }
   },
   "source": [
    "```java\n",
    "// Serializers/deserializers (serde) for String and Long types\n",
    "final Serde<String> stringSerde = Serdes.String();\n",
    "final Serde<Long> longSerde = Serdes.Long();\n",
    " \n",
    "// Construct a `KStream` from the input topic \"streams-plaintext-input\", where message values\n",
    "// represent lines of text (for the sake of this example, we ignore whatever may be stored\n",
    "// in the message keys).\n",
    "KStream<String, String> textLines = builder.stream(\n",
    "      \"streams-plaintext-input\",\n",
    "      Consumed.with(stringSerde, stringSerde)\n",
    "    );\n",
    " \n",
    "KTable<String, Long> wordCounts = textLines\n",
    "    // Split each text line, by whitespace, into words.\n",
    "    .flatMapValues(value -> Arrays.asList(value.toLowerCase().split(\"\\\\W+\")))\n",
    " \n",
    "    // Group the text words as message keys\n",
    "    .groupBy((key, value) -> value)\n",
    " \n",
    "    // Count the occurrences of each word (message key).\n",
    "    .count();\n",
    " \n",
    "// Store the running counts as a changelog stream to the output topic.\n",
    "wordCounts.toStream().to(\"streams-wordcount-output\", Produced.with(Serdes.String(), Serdes.Long()));\n",
    "```"
   ]
  },
  {
   "cell_type": "markdown",
   "metadata": {
    "slideshow": {
     "slide_type": "subslide"
    }
   },
   "source": [
    "# Run Demo App\n",
    "``` bash\n",
    "kafkaStartZk.sh\n",
    "kafkaStartServer.sh\n",
    "kafkaCreateTopic.sh streams-plaintext-input\n",
    "kafkaCreateTopic.sh streams-wordcount-output\n",
    "kafkaWordCountStream\n",
    "kafkaWordCountProducer\n",
    "kafkaWordCountConsumer\n",
    "```\n",
    "\n",
    "Messages:\n",
    "- all streams lead to kafka\n",
    "- hello kafka streams"
   ]
  },
  {
   "cell_type": "markdown",
   "metadata": {
    "slideshow": {
     "slide_type": "subslide"
    }
   },
   "source": [
    "# Behind the scenes"
   ]
  },
  {
   "cell_type": "markdown",
   "metadata": {
    "slideshow": {
     "slide_type": "subslide"
    }
   },
   "source": [
    "![](images/streams-table-updates-01.png)"
   ]
  },
  {
   "cell_type": "markdown",
   "metadata": {
    "slideshow": {
     "slide_type": "slide"
    }
   },
   "source": [
    "# Stream and Tables: A Primer\n",
    "https://www.confluent.io/blog/kafka-streams-tables-part-1-event-streaming/"
   ]
  },
  {
   "cell_type": "markdown",
   "metadata": {
    "slideshow": {
     "slide_type": "subslide"
    }
   },
   "source": [
    "## Event Record\n",
    "\n",
    "**An event records the fact that “something happened” in the world**\n",
    "\n",
    "- Event key: “Alice”\n",
    "- Event value: “Has arrived in Rome”\n",
    "- Event timestamp: “Dec. 3, 2019 at 9:06 a.m.”"
   ]
  },
  {
   "cell_type": "markdown",
   "metadata": {
    "slideshow": {
     "slide_type": "subslide"
    }
   },
   "source": [
    "## Event Stream\n",
    "\n",
    "**An event stream records the history of what has happened in the world as a sequence of events**\n",
    "\n",
    "This history is an ordered sequence or chain of events, so we know which event happened before another event to infer causality.\n",
    "\n",
    "A stream thus represents both the past and the present: as we go from today to tomorrow—or from one millisecond to the next—new events are constantly being appended to the history."
   ]
  },
  {
   "cell_type": "markdown",
   "metadata": {
    "slideshow": {
     "slide_type": "subslide"
    }
   },
   "source": [
    "### Example\n",
    "\n",
    "_The sequence of moves in a chess match_\n",
    "\n",
    "White moved the e2 pawn to e4, then Black moved the e7 pawn to e5"
   ]
  },
  {
   "cell_type": "markdown",
   "metadata": {
    "slideshow": {
     "slide_type": "fragment"
    }
   },
   "source": [
    "![](https://66.media.tumblr.com/tumblr_m8ok25dsch1r8gmlso1_500.gifv)"
   ]
  },
  {
   "cell_type": "markdown",
   "metadata": {
    "slideshow": {
     "slide_type": "subslide"
    }
   },
   "source": [
    "## Event Table\n",
    "\n",
    "**A table represents the state of the world** at a particular point in time, typically “now.”\n",
    "\n",
    "![](https://cdn.confluent.io/wp-content/uploads/streams-vs-tables-1.png)"
   ]
  },
  {
   "cell_type": "markdown",
   "metadata": {
    "slideshow": {
     "slide_type": "subslide"
    }
   },
   "source": [
    "| Stream | Table |\n",
    "| ------ | ----- |\n",
    "|A stream provides immutable data. It supports only inserting (appending) new events, whereas existing events cannot be changed. Streams are persistent, durable, and fault tolerant. Events in a stream can be keyed, and you can have many events for one key, like “all of Bob’s payments.” If you squint a bit, you could consider a stream to be like a table in a relational database (RDBMS) that has no unique key constraint and that is append only.| A table provides mutable data. New events—rows—can be inserted, and existing rows can be updated and deleted. Here, an event’s key aka row key identifies which row is being mutated. Like streams, tables are persistent, durable, and fault tolerant. Today, a table behaves much like an RDBMS materialized view because it is being changed automatically as soon as any of its input streams or tables change, rather than letting you directly run insert, update, or delete operations against it.|"
   ]
  },
  {
   "cell_type": "markdown",
   "metadata": {
    "slideshow": {
     "slide_type": "subslide"
    }
   },
   "source": [
    "|                                           | Stream |  Table    |\n",
    "|-------------------------------------------|--------|-----------|\n",
    "| First event with key bob arrives          | Insert | Insert    |\n",
    "| Another event with key bob arrives        | Insert | Update    |\n",
    "| Event with key bob and value null arrives | Insert | Delete    |\n",
    "| Event with key null arrives               | Insert | _ignored_ |"
   ]
  },
  {
   "cell_type": "markdown",
   "metadata": {},
   "source": [
    "![](https://cdn.confluent.io/wp-content/uploads/event-stream-1.gif)"
   ]
  },
  {
   "cell_type": "markdown",
   "metadata": {
    "slideshow": {
     "slide_type": "subslide"
    }
   },
   "source": [
    "# Writing App"
   ]
  },
  {
   "cell_type": "markdown",
   "metadata": {
    "slideshow": {
     "slide_type": "fragment"
    }
   },
   "source": [
    "https://kafka.apache.org/24/documentation/streams/tutorial\n",
    "\n",
    "https://kafka-tutorials.confluent.io/"
   ]
  },
  {
   "cell_type": "markdown",
   "metadata": {
    "slideshow": {
     "slide_type": "subslide"
    }
   },
   "source": [
    "```bash\n",
    "mvn archetype:generate \\\n",
    "    -DarchetypeGroupId=org.apache.kafka \\\n",
    "    -DarchetypeArtifactId=streams-quickstart-java \\\n",
    "    -DarchetypeVersion=2.4.1 \\\n",
    "    -DgroupId=streams.examples \\\n",
    "    -DartifactId=streams.examples \\\n",
    "    -Dversion=0.1 \\\n",
    "    -Dpackage=tap\n",
    "```"
   ]
  },
  {
   "cell_type": "markdown",
   "metadata": {
    "slideshow": {
     "slide_type": "subslide"
    }
   },
   "source": [
    "https://stackoverflow.com/questions/51630260/connect-to-kafka-running-in-docker"
   ]
  },
  {
   "cell_type": "markdown",
   "metadata": {
    "slideshow": {
     "slide_type": "slide"
    }
   },
   "source": [
    "# Kafka Connect"
   ]
  },
  {
   "cell_type": "markdown",
   "metadata": {
    "slideshow": {
     "slide_type": "subslide"
    }
   },
   "source": [
    "Kafka Connect is a tool for scalably and reliably streaming data between Apache Kafka and other systems."
   ]
  },
  {
   "cell_type": "markdown",
   "metadata": {
    "slideshow": {
     "slide_type": "fragment"
    }
   },
   "source": [
    "It makes it simple to quickly define connectors that move large collections of data into and out of Kafka. "
   ]
  },
  {
   "cell_type": "markdown",
   "metadata": {
    "slideshow": {
     "slide_type": "fragment"
    }
   },
   "source": [
    "Kafka Connect can ingest entire databases or collect metrics from all your application servers into Kafka topics, making the data available for stream processing with low latency. "
   ]
  },
  {
   "cell_type": "markdown",
   "metadata": {
    "slideshow": {
     "slide_type": "fragment"
    }
   },
   "source": [
    "An export job can deliver data from Kafka topics into secondary storage and query systems or into batch systems for offline analysis."
   ]
  },
  {
   "cell_type": "markdown",
   "metadata": {
    "slideshow": {
     "slide_type": "slide"
    }
   },
   "source": [
    "\n",
    "https://data-flair.training/blogs/kafka-connect/"
   ]
  },
  {
   "cell_type": "markdown",
   "metadata": {
    "slideshow": {
     "slide_type": "subslide"
    }
   },
   "source": [
    "![](https://data-flair.training/blogs/wp-content/uploads/sites/2/2018/05/Kafka-Connect.png)"
   ]
  },
  {
   "cell_type": "markdown",
   "metadata": {
    "slideshow": {
     "slide_type": "subslide"
    }
   },
   "source": [
    "![](https://d2h0cx97tjks2p.cloudfront.net/blogs/wp-content/uploads/sites/2/2018/05/Kafka-Connect.png)"
   ]
  },
  {
   "cell_type": "markdown",
   "metadata": {
    "slideshow": {
     "slide_type": "subslide"
    }
   },
   "source": [
    "![](https://d2h0cx97tjks2p.cloudfront.net/blogs/wp-content/uploads/sites/2/2018/05/Kafka-Connect-Features-01.jpg)"
   ]
  },
  {
   "cell_type": "markdown",
   "metadata": {
    "slideshow": {
     "slide_type": "subslide"
    }
   },
   "source": [
    "![](https://d2h0cx97tjks2p.cloudfront.net/blogs/wp-content/uploads/sites/2/2018/05/image.png)"
   ]
  },
  {
   "cell_type": "markdown",
   "metadata": {
    "slideshow": {
     "slide_type": "subslide"
    }
   },
   "source": [
    "## Connect Standalone Demo"
   ]
  },
  {
   "cell_type": "markdown",
   "metadata": {
    "slideshow": {
     "slide_type": "subslide"
    }
   },
   "source": [
    "## Scenario\n",
    "Writing data from the console and writing it back to the console is a convenient place to start, but you'll probably want to use data from other sources or export data from Kafka to other systems. \n",
    "\n",
    "For many systems, instead of writing custom integration code you can use Kafka Connect to import or export data."
   ]
  },
  {
   "cell_type": "markdown",
   "metadata": {
    "slideshow": {
     "slide_type": "subslide"
    }
   },
   "source": [
    "## Kafka Connect\n",
    "Kafka Connect is a tool included with Kafka that imports and exports data to Kafka. \n",
    "\n",
    "It is an extensible tool that runs connectors, which implement the custom logic for interacting with an external system. In this quickstart we'll see how to run Kafka Connect with simple connectors that import data from a file to a Kafka topic and export data from a Kafka topic to a file."
   ]
  },
  {
   "cell_type": "markdown",
   "metadata": {
    "slideshow": {
     "slide_type": "subslide"
    }
   },
   "source": [
    "# Input\n",
    "First, we'll start by creating some seed data to test with:\n",
    "\n",
    "```bash\n",
    "> echo foo> test.txt\n",
    "> echo bar>> test.txt\n",
    "```"
   ]
  },
  {
   "cell_type": "markdown",
   "metadata": {
    "slideshow": {
     "slide_type": "subslide"
    }
   },
   "source": [
    "# Run Kakfa Connect\n",
    "Next, we'll start two connectors running in standalone mode, which means they run in a single, local, dedicated process. \n",
    "\n",
    "We provide three configuration files as parameters. \n",
    "\n",
    "The first is always the configuration for the Kafka Connect process, containing common configuration such as the Kafka brokers to connect to and the serialization format for data. \n",
    "\n",
    "The remaining configuration files each specify a connector to create. \n",
    "\n",
    "These files include a unique connector name, the connector class to instantiate, and any other configuration required by the connector."
   ]
  },
  {
   "cell_type": "markdown",
   "metadata": {
    "slideshow": {
     "slide_type": "fragment"
    }
   },
   "source": [
    "```bash\n",
    "> bin/connect-standalone.sh config/connect-standalone.properties config/connect-file-source.properties config/connect-file-sink.properties\n",
    "```"
   ]
  },
  {
   "cell_type": "markdown",
   "metadata": {
    "slideshow": {
     "slide_type": "subslide"
    }
   },
   "source": [
    "These sample configuration files, included with Kafka, use the default local cluster configuration you started earlier and create two connectors"
   ]
  },
  {
   "cell_type": "markdown",
   "metadata": {
    "slideshow": {
     "slide_type": "subslide"
    }
   },
   "source": [
    "the first is a source connector that reads lines from an input file and produces each to a Kafka topic "
   ]
  },
  {
   "cell_type": "markdown",
   "metadata": {
    "slideshow": {
     "slide_type": "fragment"
    }
   },
   "source": [
    "```properties\n",
    "name=local-file-source\n",
    "connector.class=FileStreamSource\n",
    "tasks.max=1\n",
    "file=test.txt\n",
    "topic=connect-test\n",
    "```"
   ]
  },
  {
   "cell_type": "markdown",
   "metadata": {
    "slideshow": {
     "slide_type": "subslide"
    }
   },
   "source": [
    "the second is a sink connector that reads messages from a Kafka topic and produces each as a line in an output file."
   ]
  },
  {
   "cell_type": "markdown",
   "metadata": {
    "slideshow": {
     "slide_type": "fragment"
    }
   },
   "source": [
    "```properties\n",
    "name=local-file-sink\n",
    "connector.class=FileStreamSink\n",
    "tasks.max=1\n",
    "file=test.sink.txt\n",
    "topics=connect-test\n",
    "```"
   ]
  },
  {
   "cell_type": "markdown",
   "metadata": {
    "slideshow": {
     "slide_type": "subslide"
    }
   },
   "source": [
    "During startup you'll see a number of log messages, including some indicating that the connectors are being instantiated. \n",
    "\n",
    "Once the Kafka Connect process has started, the source connector should start reading lines from test.txt and producing them to the topic connect-test, and the sink connector should start reading messages from the topic connect-test and write them to the file test.sink.txt. \n",
    "\n",
    "We can verify the data has been delivered through the entire pipeline by examining the contents of the output file:\n",
    "\n",
    "```bash\n",
    "> more test.sink.txt\n",
    "foo\n",
    "bar\n",
    "```"
   ]
  },
  {
   "cell_type": "markdown",
   "metadata": {
    "slideshow": {
     "slide_type": "subslide"
    }
   },
   "source": [
    "Note that the data is being stored in the Kafka topic connect-test, so we can also run a console consumer to see the data in the topic (or use custom consumer code to process it):"
   ]
  },
  {
   "cell_type": "markdown",
   "metadata": {
    "slideshow": {
     "slide_type": "subslide"
    }
   },
   "source": [
    "```bash\n",
    "> bin/kafka-console-consumer.sh --bootstrap-server localhost:9092 --topic connect-test --from-beginning\n",
    "{\"schema\":{\"type\":\"string\",\"optional\":false},\"payload\":\"foo\"}\n",
    "{\"schema\":{\"type\":\"string\",\"optional\":false},\"payload\":\"bar\"}\n",
    "```\n",
    "\n",
    "The connectors continue to process data, so we can add data to the file and see it move through the pipeline"
   ]
  },
  {
   "cell_type": "markdown",
   "metadata": {
    "slideshow": {
     "slide_type": "subslide"
    }
   },
   "source": [
    "```bash\n",
    "> echo Another line>> test.txt\n",
    "```\n",
    "You should see the line appear in the console consumer output and in the sink file."
   ]
  },
  {
   "cell_type": "markdown",
   "metadata": {
    "slideshow": {
     "slide_type": "subslide"
    }
   },
   "source": [
    "# API Rest\n"
   ]
  },
  {
   "cell_type": "markdown",
   "metadata": {
    "slideshow": {
     "slide_type": "fragment"
    }
   },
   "source": [
    "https://kafka.apache.org/documentation/#connect_rest"
   ]
  },
  {
   "cell_type": "markdown",
   "metadata": {
    "slideshow": {
     "slide_type": "subslide"
    }
   },
   "source": [
    "```bash\n",
    "#Stop\n",
    "docker stop kafkaConnectorTwitterFile\n",
    "\n",
    "#Remove previuos container \n",
    "docker container rm kafkaConnectorTwitterFile\n",
    "\n",
    "docker build ../kafka/ --tag tap:kafka\n",
    "docker run -e KAFKA_ACTION=connect-standalone -e KAFKA_WORKER_PROPERTIES=connectStandaloneStringTwitter.properties -e KAFKA_CONNECTOR_PROPERTIES=mysqlSinkTwitter.conf --network tap --ip 10.0.100.25 --name kafkaConnectorTwitterFile -it tap:kafka\n",
    "```"
   ]
  },
  {
   "cell_type": "markdown",
   "metadata": {
    "slideshow": {
     "slide_type": "subslide"
    }
   },
   "source": [
    "## Config"
   ]
  },
  {
   "cell_type": "markdown",
   "metadata": {
    "slideshow": {
     "slide_type": "fragment"
    }
   },
   "source": [
    "```properties\n",
    "# my-standalone.properties worker config file\n",
    "\n",
    "#bootstrap kafka servers\n",
    "bootstrap.servers=10.0.100.23:9092\n",
    "\n",
    "# specify input data format\n",
    "key.converter=org.apache.kafka.connect.storage.StringConverter\n",
    "value.converter=org.apache.kafka.connect.storage.StringConverter\n",
    "\n",
    "# The internal converter used for offsets, most will always want to use the built-in default\n",
    "internal.key.converter=org.apache.kafka.connect.json.JsonConverter\n",
    "internal.value.converter=org.apache.kafka.connect.json.JsonConverter\n",
    "internal.key.converter.schemas.enable=false\n",
    "internal.value.converter.schemas.enable=false\n",
    "\n",
    "# local file storing offsets and config data\n",
    "offset.storage.file.filename=/tmp/connect.offsets\n",
    "```"
   ]
  },
  {
   "cell_type": "markdown",
   "metadata": {
    "slideshow": {
     "slide_type": "subslide"
    }
   },
   "source": [
    "## Connector Properties"
   ]
  },
  {
   "cell_type": "markdown",
   "metadata": {
    "slideshow": {
     "slide_type": "fragment"
    }
   },
   "source": [
    "```properties\n",
    "name=test-sink\n",
    "connector.class=FileStreamSink\n",
    "tasks.max=1\n",
    "topics=tap\n",
    "file=/tmp/my-test.txt\n",
    "```"
   ]
  },
  {
   "cell_type": "markdown",
   "metadata": {
    "slideshow": {
     "slide_type": "slide"
    }
   },
   "source": [
    "# Confluent"
   ]
  },
  {
   "cell_type": "markdown",
   "metadata": {
    "slideshow": {
     "slide_type": "subslide"
    }
   },
   "source": [
    "https://docs.confluent.io/current/quickstart/ce-docker-quickstart.html"
   ]
  },
  {
   "cell_type": "markdown",
   "metadata": {},
   "source": [
    "https://www.confluent.io/blog/hello-world-kafka-connect-kafka-streams/"
   ]
  },
  {
   "cell_type": "markdown",
   "metadata": {
    "slideshow": {
     "slide_type": "slide"
    }
   },
   "source": [
    "# Biblio\n",
    "- https://blog.softwaremill.com/do-not-reinvent-the-wheel-use-kafka-connect-4bcabb143292\n",
    "- https://dev.to/thegroo/kafka-connect-crash-course-1chd\n",
    "- https://data-flair.training/blogs/kafka-connect/\n",
    "- https://www.confluent.io/blog/simplest-useful-kafka-connect-data-pipeline-world-thereabouts-part-1/"
   ]
  }
 ],
 "metadata": {
  "celltoolbar": "Slideshow",
  "kernelspec": {
   "display_name": "Python 3 (ipykernel)",
   "language": "python",
   "name": "python3"
  },
  "language_info": {
   "codemirror_mode": {
    "name": "ipython",
    "version": 3
   },
   "file_extension": ".py",
   "mimetype": "text/x-python",
   "name": "python",
   "nbconvert_exporter": "python",
   "pygments_lexer": "ipython3",
   "version": "3.10.2"
  },
  "rise": {
   "enable_chalkboard": "true",
   "scroll": "true",
   "theme": "simple"
  }
 },
 "nbformat": 4,
 "nbformat_minor": 4
}
