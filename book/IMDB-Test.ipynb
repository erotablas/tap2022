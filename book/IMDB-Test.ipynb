{
 "cells": [
  {
   "cell_type": "markdown",
   "id": "0f8480ea",
   "metadata": {},
   "source": [
    "# IMDB Analysis"
   ]
  },
  {
   "cell_type": "markdown",
   "id": "6c0762b0",
   "metadata": {},
   "source": [
    "Data source:\n",
    "\n",
    "https://datasets.imdbws.com/"
   ]
  },
  {
   "cell_type": "markdown",
   "id": "e5176a04",
   "metadata": {},
   "source": [
    "Initialize Spark"
   ]
  },
  {
   "cell_type": "code",
   "execution_count": 1,
   "id": "bab1b090",
   "metadata": {},
   "outputs": [
    {
     "data": {
      "text/plain": [
       "'/Users/nics/Dev/spark-3.2.1-bin-hadoop3.2'"
      ]
     },
     "execution_count": 1,
     "metadata": {},
     "output_type": "execute_result"
    }
   ],
   "source": [
    "import findspark\n",
    "import pyspark\n",
    "findspark.find()"
   ]
  },
  {
   "cell_type": "markdown",
   "id": "edb5246d",
   "metadata": {},
   "source": [
    "Set up Spark Application"
   ]
  },
  {
   "cell_type": "code",
   "execution_count": 2,
   "id": "45a0b80e",
   "metadata": {},
   "outputs": [
    {
     "name": "stderr",
     "output_type": "stream",
     "text": [
      "Using Spark's default log4j profile: org/apache/spark/log4j-defaults.properties\n",
      "Setting default log level to \"WARN\".\n",
      "To adjust logging level use sc.setLogLevel(newLevel). For SparkR, use setLogLevel(newLevel).\n",
      "22/05/02 22:58:34 WARN NativeCodeLoader: Unable to load native-hadoop library for your platform... using builtin-java classes where applicable\n"
     ]
    }
   ],
   "source": [
    "from pyspark.sql import SparkSession\n",
    "spark = SparkSession.builder.master(\"local[8]\").appName(\"IMDB\").getOrCreate()"
   ]
  },
  {
   "cell_type": "markdown",
   "id": "8b41abb6",
   "metadata": {},
   "source": [
    "See if is it's up and get the UI"
   ]
  },
  {
   "cell_type": "code",
   "execution_count": 3,
   "id": "ce77174e",
   "metadata": {},
   "outputs": [
    {
     "data": {
      "text/html": [
       "\n",
       "            <div>\n",
       "                <p><b>SparkSession - in-memory</b></p>\n",
       "                \n",
       "        <div>\n",
       "            <p><b>SparkContext</b></p>\n",
       "\n",
       "            <p><a href=\"http://192.168.1.67:4040\">Spark UI</a></p>\n",
       "\n",
       "            <dl>\n",
       "              <dt>Version</dt>\n",
       "                <dd><code>v3.2.1</code></dd>\n",
       "              <dt>Master</dt>\n",
       "                <dd><code>local[8]</code></dd>\n",
       "              <dt>AppName</dt>\n",
       "                <dd><code>IMDB</code></dd>\n",
       "            </dl>\n",
       "        </div>\n",
       "        \n",
       "            </div>\n",
       "        "
      ],
      "text/plain": [
       "<pyspark.sql.session.SparkSession at 0x11081b070>"
      ]
     },
     "execution_count": 3,
     "metadata": {},
     "output_type": "execute_result"
    }
   ],
   "source": [
    "spark"
   ]
  },
  {
   "cell_type": "markdown",
   "id": "b537255d",
   "metadata": {},
   "source": [
    "We need a schema so let's import "
   ]
  },
  {
   "cell_type": "code",
   "execution_count": 4,
   "id": "28f39fa1",
   "metadata": {},
   "outputs": [],
   "source": [
    "from pyspark.sql.types import *"
   ]
  },
  {
   "cell_type": "markdown",
   "id": "a009ced4",
   "metadata": {},
   "source": [
    "And define schema"
   ]
  },
  {
   "cell_type": "code",
   "execution_count": 5,
   "id": "82ac63cf",
   "metadata": {},
   "outputs": [],
   "source": [
    "schema = StructType() \\\n",
    "      .add(\"tconst\",StringType(),True) \\\n",
    "      .add(\"titleType\",StringType(),True) \\\n",
    "      .add(\"primaryTitle\",StringType(),True) \\\n",
    "      .add(\"originalTitle\",StringType(),True) \\\n",
    "      .add(\"isAdult\",IntegerType(),True) \\\n",
    "      .add(\"startYear\",IntegerType(),True) \\\n",
    "      .add(\"endYear\",IntegerType(),True) \\\n",
    "      .add(\"runtimeMinutes\",DoubleType(),True) \\\n",
    "      .add(\"genres\",StringType(),True) "
   ]
  },
  {
   "cell_type": "markdown",
   "id": "5f0ed529",
   "metadata": {},
   "source": [
    "That's quite important, without it's a complete mess\n",
    "\n",
    "Credit\n",
    "\n",
    "https://medium.com/@smdbilal.vt5815/csv-bad-record-handling-and-its-complications-pyspark-f3b871d652ba"
   ]
  },
  {
   "cell_type": "code",
   "execution_count": 6,
   "id": "352b80bc",
   "metadata": {},
   "outputs": [],
   "source": [
    "spark.conf.set(\"spark.sql.csv.parser.columnPruning.enabled\",False)"
   ]
  },
  {
   "cell_type": "markdown",
   "id": "e8a48318",
   "metadata": {},
   "source": [
    "Now it's time to load"
   ]
  },
  {
   "cell_type": "code",
   "execution_count": 7,
   "id": "5075ea4a",
   "metadata": {},
   "outputs": [
    {
     "data": {
      "text/plain": [
       "DataFrame[tconst: string, titleType: string, primaryTitle: string, originalTitle: string, isAdult: int, startYear: int, endYear: int, runtimeMinutes: double, genres: string]"
      ]
     },
     "execution_count": 7,
     "metadata": {},
     "output_type": "execute_result"
    }
   ],
   "source": [
    "file = \"/Users/nics/Downloads/title.basics.tsv.gz\"  # Should be some file on your system\n",
    "dataset = spark.read\\\n",
    ".option(\"mode\",\"DROPMALFORMED\")\\\n",
    ".option(\"Header\",True)\\\n",
    ".option(\"delimiter\",\"\\t\")\\\n",
    ".schema(schema)\\\n",
    ".csv(file)\n",
    "\n",
    "dataset\n"
   ]
  },
  {
   "cell_type": "code",
   "execution_count": 8,
   "id": "234b3581",
   "metadata": {},
   "outputs": [
    {
     "name": "stdout",
     "output_type": "stream",
     "text": [
      "root\n",
      " |-- tconst: string (nullable = true)\n",
      " |-- titleType: string (nullable = true)\n",
      " |-- primaryTitle: string (nullable = true)\n",
      " |-- originalTitle: string (nullable = true)\n",
      " |-- isAdult: integer (nullable = true)\n",
      " |-- startYear: integer (nullable = true)\n",
      " |-- endYear: integer (nullable = true)\n",
      " |-- runtimeMinutes: double (nullable = true)\n",
      " |-- genres: string (nullable = true)\n",
      "\n"
     ]
    }
   ],
   "source": [
    "dataset.printSchema()"
   ]
  },
  {
   "cell_type": "code",
   "execution_count": 9,
   "id": "edb8310d",
   "metadata": {},
   "outputs": [
    {
     "name": "stderr",
     "output_type": "stream",
     "text": [
      "\r",
      "[Stage 0:>                                                          (0 + 1) / 1]\r"
     ]
    },
    {
     "name": "stdout",
     "output_type": "stream",
     "text": [
      "+-------+--------------------+\n",
      "|summary|             isAdult|\n",
      "+-------+--------------------+\n",
      "|  count|             8890187|\n",
      "|   mean|0.031045916132022868|\n",
      "| stddev|  0.1734418363812059|\n",
      "|    min|                   0|\n",
      "|    max|                   1|\n",
      "+-------+--------------------+\n",
      "\n"
     ]
    },
    {
     "name": "stderr",
     "output_type": "stream",
     "text": [
      "\r",
      "                                                                                \r"
     ]
    }
   ],
   "source": [
    "dataset.describe('isAdult').show()"
   ]
  },
  {
   "cell_type": "code",
   "execution_count": 10,
   "id": "55cebd86",
   "metadata": {},
   "outputs": [
    {
     "name": "stdout",
     "output_type": "stream",
     "text": [
      "+---------+---------+--------------------+--------------------+-------+---------+-------+--------------+--------------------+\n",
      "|   tconst|titleType|        primaryTitle|       originalTitle|isAdult|startYear|endYear|runtimeMinutes|              genres|\n",
      "+---------+---------+--------------------+--------------------+-------+---------+-------+--------------+--------------------+\n",
      "|tt0025509| tvSeries|      Les Misérables|      Les misérables|      0|     1934|   1934|         279.0|               Drama|\n",
      "|tt0035599| tvSeries|Voice of Fireston...|Voice of Fireston...|      0|     1943|   1947|          15.0|                  \\N|\n",
      "|tt0035803| tvSeries|The German Weekly...|Die Deutsche Woch...|      0|     1940|   1945|          12.0|    Documentary,News|\n",
      "|tt0038276| tvSeries|   You Are an Artist|   You Are an Artist|      0|     1946|   1955|          15.0|           Talk-Show|\n",
      "|tt0039120| tvSeries|           Americana|           Americana|      0|     1947|   1949|          30.0|    Family,Game-Show|\n",
      "|tt0039121| tvSeries|      Birthday Party|      Birthday Party|      0|     1947|   1949|          30.0|              Family|\n",
      "|tt0039123| tvSeries|       Kraft Theatre|Kraft Television ...|      0|     1947|   1958|          60.0|               Drama|\n",
      "|tt0039125| tvSeries|   Public Prosecutor|   Public Prosecutor|      0|     1947|   1951|          20.0| Crime,Drama,Mystery|\n",
      "|tt0040021| tvSeries|      Actor's Studio|      Actor's Studio|      0|     1948|   1950|          30.0|               Drama|\n",
      "|tt0040022| tvSeries|The Adventures of...|The Adventures of...|      0|     1948|   1949|          30.0|Comedy,Family,Fan...|\n",
      "+---------+---------+--------------------+--------------------+-------+---------+-------+--------------+--------------------+\n",
      "only showing top 10 rows\n",
      "\n"
     ]
    }
   ],
   "source": [
    "dataset.show(10)"
   ]
  },
  {
   "cell_type": "code",
   "execution_count": 11,
   "id": "a582b7ce",
   "metadata": {},
   "outputs": [
    {
     "data": {
      "text/plain": [
       "DataFrame[tconst: string, averageRating: string, numVotes: string]"
      ]
     },
     "execution_count": 11,
     "metadata": {},
     "output_type": "execute_result"
    }
   ],
   "source": [
    "file2 = \"/Users/nics/Downloads/title.ratings.tsv.gz\"  # Should be some file on your system\n",
    "ratings = spark.read.option(\"Header\",True).option(\"delimiter\",\"\\t\").csv(file2)\n",
    "ratings"
   ]
  },
  {
   "cell_type": "code",
   "execution_count": 12,
   "id": "0d01902c",
   "metadata": {},
   "outputs": [
    {
     "name": "stdout",
     "output_type": "stream",
     "text": [
      "+---------+-------------+--------+\n",
      "|   tconst|averageRating|numVotes|\n",
      "+---------+-------------+--------+\n",
      "|tt0000001|          5.7|    1878|\n",
      "|tt0000002|          5.9|     248|\n",
      "|tt0000003|          6.5|    1650|\n",
      "|tt0000004|          5.8|     160|\n",
      "|tt0000005|          6.2|    2475|\n",
      "|tt0000006|          5.2|     165|\n",
      "|tt0000007|          5.4|     771|\n",
      "|tt0000008|          5.4|    2017|\n",
      "|tt0000009|          5.3|     193|\n",
      "|tt0000010|          6.9|    6778|\n",
      "|tt0000011|          5.3|     344|\n",
      "|tt0000012|          7.4|   11638|\n",
      "|tt0000013|          5.7|    1797|\n",
      "|tt0000014|          7.1|    5218|\n",
      "|tt0000015|          6.2|     992|\n",
      "|tt0000016|          5.9|    1406|\n",
      "|tt0000017|          4.6|     305|\n",
      "|tt0000018|          5.3|     561|\n",
      "|tt0000019|          5.2|      30|\n",
      "|tt0000020|          4.8|     332|\n",
      "+---------+-------------+--------+\n",
      "only showing top 20 rows\n",
      "\n"
     ]
    }
   ],
   "source": [
    "ratings.show()"
   ]
  },
  {
   "cell_type": "code",
   "execution_count": 13,
   "id": "7365e51e",
   "metadata": {},
   "outputs": [],
   "source": [
    "joined = dataset.join(ratings,dataset.tconst == ratings.tconst)"
   ]
  },
  {
   "cell_type": "code",
   "execution_count": 14,
   "id": "a6b4b4b8",
   "metadata": {},
   "outputs": [
    {
     "data": {
      "text/plain": [
       "DataFrame[tconst: string, titleType: string, primaryTitle: string, originalTitle: string, isAdult: int, startYear: int, endYear: int, runtimeMinutes: double, genres: string, tconst: string, averageRating: string, numVotes: string]"
      ]
     },
     "execution_count": 14,
     "metadata": {},
     "output_type": "execute_result"
    }
   ],
   "source": [
    "joined"
   ]
  },
  {
   "cell_type": "code",
   "execution_count": 15,
   "id": "4e7f8001",
   "metadata": {},
   "outputs": [
    {
     "name": "stderr",
     "output_type": "stream",
     "text": [
      "                                                                                \r"
     ]
    },
    {
     "data": {
      "text/plain": [
       "[Row(tconst='tt0025509', titleType='tvSeries', primaryTitle='Les Misérables', originalTitle='Les misérables', isAdult=0, startYear=1934, endYear=1934, runtimeMinutes=279.0, genres='Drama', tconst='tt0025509', averageRating='8.3', numVotes='1781'),\n",
       " Row(tconst='tt0035803', titleType='tvSeries', primaryTitle='The German Weekly Review', originalTitle='Die Deutsche Wochenschau', isAdult=0, startYear=1940, endYear=1945, runtimeMinutes=12.0, genres='Documentary,News', tconst='tt0035803', averageRating='7.9', numVotes='51'),\n",
       " Row(tconst='tt0039120', titleType='tvSeries', primaryTitle='Americana', originalTitle='Americana', isAdult=0, startYear=1947, endYear=1949, runtimeMinutes=30.0, genres='Family,Game-Show', tconst='tt0039120', averageRating='3.0', numVotes='14'),\n",
       " Row(tconst='tt0039123', titleType='tvSeries', primaryTitle='Kraft Theatre', originalTitle='Kraft Television Theatre', isAdult=0, startYear=1947, endYear=1958, runtimeMinutes=60.0, genres='Drama', tconst='tt0039123', averageRating='8.2', numVotes='187'),\n",
       " Row(tconst='tt0039125', titleType='tvSeries', primaryTitle='Public Prosecutor', originalTitle='Public Prosecutor', isAdult=0, startYear=1947, endYear=1951, runtimeMinutes=20.0, genres='Crime,Drama,Mystery', tconst='tt0039125', averageRating='5.6', numVotes='18'),\n",
       " Row(tconst='tt0040021', titleType='tvSeries', primaryTitle=\"Actor's Studio\", originalTitle=\"Actor's Studio\", isAdult=0, startYear=1948, endYear=1950, runtimeMinutes=30.0, genres='Drama', tconst='tt0040021', averageRating='7.1', numVotes='78'),\n",
       " Row(tconst='tt0040028', titleType='tvSeries', primaryTitle='Talent Scouts', originalTitle='Talent Scouts', isAdult=0, startYear=1948, endYear=1958, runtimeMinutes=30.0, genres='Comedy,Family,Music', tconst='tt0040028', averageRating='6.9', numVotes='22'),\n",
       " Row(tconst='tt0040030', titleType='tvSeries', primaryTitle='Author Meets the Critics', originalTitle='Author Meets the Critics', isAdult=0, startYear=1947, endYear=1954, runtimeMinutes=30.0, genres='Family,Talk-Show', tconst='tt0040030', averageRating='4.0', numVotes='11'),\n",
       " Row(tconst='tt0040033', titleType='tvSeries', primaryTitle='Break the $250,000 Bank', originalTitle='Break the Bank', isAdult=0, startYear=1948, endYear=1957, runtimeMinutes=30.0, genres='Family,Game-Show', tconst='tt0040033', averageRating='5.8', numVotes='13'),\n",
       " Row(tconst='tt0040034', titleType='tvSeries', primaryTitle='Candid Camera', originalTitle='Candid Camera', isAdult=0, startYear=1948, endYear=1952, runtimeMinutes=30.0, genres='Comedy,Family,Reality-TV', tconst='tt0040034', averageRating='7.1', numVotes='145')]"
      ]
     },
     "execution_count": 15,
     "metadata": {},
     "output_type": "execute_result"
    }
   ],
   "source": [
    "joined.head(10)"
   ]
  },
  {
   "cell_type": "code",
   "execution_count": 16,
   "id": "215607f0",
   "metadata": {},
   "outputs": [
    {
     "name": "stdout",
     "output_type": "stream",
     "text": [
      "root\n",
      " |-- tconst: string (nullable = true)\n",
      " |-- titleType: string (nullable = true)\n",
      " |-- primaryTitle: string (nullable = true)\n",
      " |-- originalTitle: string (nullable = true)\n",
      " |-- isAdult: integer (nullable = true)\n",
      " |-- startYear: integer (nullable = true)\n",
      " |-- endYear: integer (nullable = true)\n",
      " |-- runtimeMinutes: double (nullable = true)\n",
      " |-- genres: string (nullable = true)\n",
      " |-- tconst: string (nullable = true)\n",
      " |-- averageRating: string (nullable = true)\n",
      " |-- numVotes: string (nullable = true)\n",
      "\n"
     ]
    }
   ],
   "source": [
    "joined.printSchema()"
   ]
  },
  {
   "cell_type": "code",
   "execution_count": 17,
   "id": "58042926",
   "metadata": {},
   "outputs": [
    {
     "name": "stderr",
     "output_type": "stream",
     "text": [
      "                                                                                \r"
     ]
    },
    {
     "data": {
      "text/plain": [
       "[Row(isAdult=0, sum(numVotes)=1237338202.0),\n",
       " Row(isAdult=1, sum(numVotes)=853190.0)]"
      ]
     },
     "execution_count": 17,
     "metadata": {},
     "output_type": "execute_result"
    }
   ],
   "source": [
    "sorted(joined.groupBy('isAdult').agg({'numVotes': 'sum'}).collect())"
   ]
  }
 ],
 "metadata": {
  "kernelspec": {
   "display_name": "Python 3 (ipykernel)",
   "language": "python",
   "name": "python3"
  },
  "language_info": {
   "codemirror_mode": {
    "name": "ipython",
    "version": 3
   },
   "file_extension": ".py",
   "mimetype": "text/x-python",
   "name": "python",
   "nbconvert_exporter": "python",
   "pygments_lexer": "ipython3",
   "version": "3.9.10"
  }
 },
 "nbformat": 4,
 "nbformat_minor": 5
}
