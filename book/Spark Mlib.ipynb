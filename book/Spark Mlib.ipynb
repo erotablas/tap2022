{
 "cells": [
  {
   "cell_type": "markdown",
   "metadata": {
    "slideshow": {
     "slide_type": "slide"
    }
   },
   "source": [
    "#  Spark Mlib"
   ]
  },
  {
   "cell_type": "markdown",
   "metadata": {
    "slideshow": {
     "slide_type": "subslide"
    }
   },
   "source": [
    "![](https://blog.osservatori.net/hubfs/AI/machine-learning.jpg)\n",
    "[Osservatori.net](https://blog.osservatori.net/it_it/machine-learning-come-funziona-apprendimento-automatico)"
   ]
  },
  {
   "cell_type": "markdown",
   "metadata": {
    "slideshow": {
     "slide_type": "subslide"
    }
   },
   "source": [
    "# @reboot"
   ]
  },
  {
   "cell_type": "code",
   "execution_count": 1,
   "metadata": {
    "slideshow": {
     "slide_type": "fragment"
    }
   },
   "outputs": [
    {
     "name": "stderr",
     "output_type": "stream",
     "text": [
      "Using Spark's default log4j profile: org/apache/spark/log4j-defaults.properties\n",
      "Setting default log level to \"WARN\".\n",
      "To adjust logging level use sc.setLogLevel(newLevel). For SparkR, use setLogLevel(newLevel).\n",
      "22/05/06 15:43:07 WARN NativeCodeLoader: Unable to load native-hadoop library for your platform... using builtin-java classes where applicable\n"
     ]
    },
    {
     "data": {
      "text/html": [
       "\n",
       "            <div>\n",
       "                <p><b>SparkSession - in-memory</b></p>\n",
       "                \n",
       "        <div>\n",
       "            <p><b>SparkContext</b></p>\n",
       "\n",
       "            <p><a href=\"http://151.97.63.16:4040\">Spark UI</a></p>\n",
       "\n",
       "            <dl>\n",
       "              <dt>Version</dt>\n",
       "                <dd><code>v3.2.1</code></dd>\n",
       "              <dt>Master</dt>\n",
       "                <dd><code>local[*]</code></dd>\n",
       "              <dt>AppName</dt>\n",
       "                <dd><code>TapDataFrame</code></dd>\n",
       "            </dl>\n",
       "        </div>\n",
       "        \n",
       "            </div>\n",
       "        "
      ],
      "text/plain": [
       "<pyspark.sql.session.SparkSession at 0x11069cc70>"
      ]
     },
     "execution_count": 1,
     "metadata": {},
     "output_type": "execute_result"
    }
   ],
   "source": [
    "import findspark\n",
    "import pyspark\n",
    "findspark.find( ) \n",
    "from pyspark.sql import SparkSession\n",
    "spark = SparkSession.builder.appName(\"TapDataFrame\").getOrCreate()\n",
    "spark"
   ]
  },
  {
   "cell_type": "markdown",
   "metadata": {
    "slideshow": {
     "slide_type": "slide"
    }
   },
   "source": [
    "<div class=\"jumbotron\">\n",
    "    <center>\n",
    "        <b>MLlib</b> is Apache Spark's scalable machine learning library.\n",
    "    </center>\n",
    "</div>"
   ]
  },
  {
   "cell_type": "markdown",
   "metadata": {
    "slideshow": {
     "slide_type": "subslide"
    }
   },
   "source": [
    "## Ease of Use"
   ]
  },
  {
   "cell_type": "markdown",
   "metadata": {
    "cell_style": "split",
    "slideshow": {
     "slide_type": "fragment"
    }
   },
   "source": [
    "***Usable in Java, Scala, Python, and R.***\n",
    "\n",
    "MLlib fits into Spark's APIs and interoperates with NumPy in Python (as of Spark 0.9) and R libraries (as of Spark 1.5). You can use any Hadoop data source (e.g. HDFS, HBase, or local files), making it easy to plug into Hadoop workflows."
   ]
  },
  {
   "cell_type": "markdown",
   "metadata": {
    "cell_style": "split",
    "slideshow": {
     "slide_type": "fragment"
    }
   },
   "source": [
    "```python\n",
    "data = spark.read.format(\"libsvm\")\\\n",
    "  .load(\"hdfs://...\")\n",
    "\n",
    "model = KMeans(k=10).fit(data)\n",
    "```"
   ]
  },
  {
   "cell_type": "markdown",
   "metadata": {
    "slideshow": {
     "slide_type": "subslide"
    }
   },
   "source": [
    "## Performance"
   ]
  },
  {
   "cell_type": "markdown",
   "metadata": {
    "cell_style": "split",
    "slideshow": {
     "slide_type": "fragment"
    }
   },
   "source": [
    "***High-quality algorithms, 100x faster than MapReduce.***\n",
    "\n",
    "Spark excels at iterative computation, enabling MLlib to run fast. At the same time, we care about algorithmic performance: MLlib contains high-quality algorithms that leverage iteration, and can yield better results than the one-pass approximations sometimes used on MapReduce."
   ]
  },
  {
   "cell_type": "markdown",
   "metadata": {
    "cell_style": "split",
    "slideshow": {
     "slide_type": "fragment"
    }
   },
   "source": [
    "![](https://spark.apache.org/images/logistic-regression.png)"
   ]
  },
  {
   "cell_type": "markdown",
   "metadata": {
    "slideshow": {
     "slide_type": "subslide"
    }
   },
   "source": [
    "## Algorithms and Utilities"
   ]
  },
  {
   "cell_type": "markdown",
   "metadata": {
    "cell_style": "split",
    "slideshow": {
     "slide_type": "fragment"
    }
   },
   "source": [
    "*Algorithms*\n",
    "\n",
    "* Classification: logistic regression, naive Bayes,...\n",
    "* Regression: generalized linear regression, survival regression,...\n",
    "* Decision trees, random forests, and gradient-boosted trees\n",
    "* Recommendation: alternating least squares (ALS)\n",
    "* Clustering: K-means, Gaussian mixtures (GMMs),...\n",
    "* Topic modeling: latent Dirichlet allocation (LDA)\n",
    "* Frequent itemsets, association rules, and sequential pattern mining\n"
   ]
  },
  {
   "cell_type": "markdown",
   "metadata": {
    "cell_style": "split",
    "slideshow": {
     "slide_type": "fragment"
    }
   },
   "source": [
    "*Utilities*\n",
    "\n",
    "* Feature transformations: standardization, normalization, hashing,...\n",
    "* ML Pipeline construction\n",
    "* Model evaluation and hyper-parameter tuning\n",
    "* ML persistence: saving and loading models and Pipelines\n",
    "* Distributed linear algebra: SVD, PCA,..."
   ]
  },
  {
   "cell_type": "markdown",
   "metadata": {
    "slideshow": {
     "slide_type": "subslide"
    }
   },
   "source": [
    "## Announcement: DataFrame-based API is primary API\n",
    "https://spark.apache.org/docs/latest/ml-guide.html\n",
    "\n",
    "The MLlib RDD-based API is now in maintenance mode.\n",
    "\n",
    "As of Spark 2.0, the RDD-based APIs in the spark.mllib package have entered maintenance mode. The primary Machine Learning API for Spark is now the DataFrame-based API in the spark.ml package.\n",
    "\n",
    "DataFrames provide a more user-friendly API than RDDs. The many benefits of DataFrames include Spark Datasources, SQL/DataFrame queries, Tungsten and Catalyst optimizations, and uniform APIs across languages.\n",
    "The DataFrame-based API for MLlib provides a uniform API across ML algorithms and across multiple languages.\n",
    "DataFrames facilitate practical ML Pipelines, particularly feature transformations. See the Pipelines guide for details.\n",
    "\n",
    "What is “Spark ML”?\n",
    "\n",
    "“Spark ML” is not an official name but occasionally used to refer to the MLlib DataFrame-based API."
   ]
  },
  {
   "cell_type": "markdown",
   "metadata": {
    "slideshow": {
     "slide_type": "subslide"
    }
   },
   "source": [
    "## Highlights in 3.0[](https://spark.apache.org/docs/latest/ml-guide.html#highlights-in-30)\n",
    "\n",
    "The list below highlights some of the new features and enhancements added to MLlib in the `3.0`\n",
    "release of Spark:\n",
    "\n",
    "* Multiple columns support was added to `Binarizer` ([SPARK-23578](https://issues.apache.org/jira/browse/SPARK-23578)), `StringIndexer` ([SPARK-11215](https://issues.apache.org/jira/browse/SPARK-11215)), `StopWordsRemover` ([SPARK-29808](https://issues.apache.org/jira/browse/SPARK-29808)) and PySpark `QuantileDiscretizer` ([SPARK-22796](https://issues.apache.org/jira/browse/SPARK-22796)).\n",
    "* Tree-Based Feature Transformation was added\n",
    "    ([SPARK-13677](https://issues.apache.org/jira/browse/SPARK-13677)).\n",
    "* Two new evaluators `MultilabelClassificationEvaluator` ([SPARK-16692](https://issues.apache.org/jira/browse/SPARK-16692)) and `RankingEvaluator` ([SPARK-28045](https://issues.apache.org/jira/browse/SPARK-28045)) were added.\n",
    "* Sample weights support was added in `DecisionTreeClassifier/Regressor` ([SPARK-19591](https://issues.apache.org/jira/browse/SPARK-19591)), `RandomForestClassifier/Regressor` ([SPARK-9478](https://issues.apache.org/jira/browse/SPARK-9478)), `GBTClassifier/Regressor` ([SPARK-9612](https://issues.apache.org/jira/browse/SPARK-9612)),  `MulticlassClassificationEvaluator` ([SPARK-24101](https://issues.apache.org/jira/browse/SPARK-24101)), `RegressionEvaluator` ([SPARK-24102](https://issues.apache.org/jira/browse/SPARK-24102)), `BinaryClassificationEvaluator` ([SPARK-24103](https://issues.apache.org/jira/browse/SPARK-24103)), `BisectingKMeans` ([SPARK-30351](https://issues.apache.org/jira/browse/SPARK-30351)), `KMeans` ([SPARK-29967](https://issues.apache.org/jira/browse/SPARK-29967)) and `GaussianMixture` ([SPARK-30102](https://issues.apache.org/jira/browse/SPARK-30102)).\n",
    "* R API for `PowerIterationClustering` was added\n",
    "    ([SPARK-19827](https://issues.apache.org/jira/browse/SPARK-19827)).\n",
    "* Added Spark ML listener for tracking ML pipeline status\n",
    "    ([SPARK-23674](https://issues.apache.org/jira/browse/SPARK-23674)).\n",
    "* Fit with validation set was added to Gradient Boosted Trees in Python\n",
    "    ([SPARK-24333](https://issues.apache.org/jira/browse/SPARK-24333)).\n",
    "* [`RobustScaler`](https://spark.apache.org/docs/latest/ml-features.html#robustscaler) transformer was added\n",
    "    ([SPARK-28399](https://issues.apache.org/jira/browse/SPARK-28399)).\n",
    "* [`Factorization Machines`](https://spark.apache.org/docs/latest/ml-classification-regression.html#factorization-machines) classifier and regressor were added\n",
    "    ([SPARK-29224](https://issues.apache.org/jira/browse/SPARK-29224)).\n",
    "* Gaussian Naive Bayes Classifier ([SPARK-16872](https://issues.apache.org/jira/browse/SPARK-16872)) and Complement Naive Bayes Classifier ([SPARK-29942](https://issues.apache.org/jira/browse/SPARK-29942)) were added.\n",
    "* ML function parity between Scala and Python\n",
    "    ([SPARK-28958](https://issues.apache.org/jira/browse/SPARK-28958)).\n",
    "* `predictRaw` is made public in all the Classification models. `predictProbability` is made public in all the Classification models except `LinearSVCModel`\n",
    "    ([SPARK-30358](https://issues.apache.org/jira/browse/SPARK-30358))."
   ]
  },
  {
   "cell_type": "markdown",
   "metadata": {
    "slideshow": {
     "slide_type": "slide"
    }
   },
   "source": [
    "## Data Types"
   ]
  },
  {
   "cell_type": "markdown",
   "metadata": {
    "slideshow": {
     "slide_type": "subslide"
    }
   },
   "source": [
    "## Local vector\n",
    "A local vector has integer-typed and 0-based indices and double-typed values, stored on a single machine. \n",
    "\n",
    "MLlib supports two types of local vectors: dense and sparse. \n",
    "\n",
    "A dense vector is backed by a double array representing its entry values, while a sparse vector is backed by two parallel arrays: indices and values. \n",
    "\n",
    "For example, a vector (1.0, 0.0, 3.0) can be represented in dense format as [1.0, 0.0, 3.0] or in sparse format as (3, [0, 2], [1.0, 3.0]), where 3 is the size of the vector.\n"
   ]
  },
  {
   "cell_type": "markdown",
   "metadata": {
    "slideshow": {
     "slide_type": "slide"
    }
   },
   "source": [
    "# Basic Statistics"
   ]
  },
  {
   "cell_type": "markdown",
   "metadata": {
    "slideshow": {
     "slide_type": "subslide"
    }
   },
   "source": [
    "## Correlation"
   ]
  },
  {
   "cell_type": "markdown",
   "metadata": {
    "slideshow": {
     "slide_type": "fragment"
    }
   },
   "source": [
    "*Correlation* computes the correlation matrix for the input Dataset of Vectors using the specified method. \n",
    "The output will be a DataFrame that contains the correlation matrix of the column of vectors."
   ]
  },
  {
   "cell_type": "code",
   "execution_count": 3,
   "metadata": {
    "slideshow": {
     "slide_type": "subslide"
    }
   },
   "outputs": [
    {
     "name": "stdout",
     "output_type": "stream",
     "text": [
      "+-----------------+\n",
      "|         features|\n",
      "+-----------------+\n",
      "|[1.0,2.0,3.0,4.0]|\n",
      "|[2.0,4.0,6.0,8.0]|\n",
      "+-----------------+\n",
      "\n"
     ]
    }
   ],
   "source": [
    "from pyspark.ml.linalg import Vectors\n",
    "from pyspark.ml.stat import Correlation\n",
    "\n",
    "datasetA = [1.0,2.0,3.0,4.0]\n",
    "datasetB = [2.0,4.0,6.0,8.0]\n",
    "\n",
    "data = [\n",
    "        (Vectors.dense(datasetA),),\n",
    "        (Vectors.dense(datasetB),)\n",
    "       ]\n",
    "# the comma after the variable forces Python to consider it as a tuple\n",
    "# https://www.w3schools.com/python/gloss_python_tuple_one_item.asp\n",
    "# Credits Ernesto Casablanca, TAP 2021-04-26\n",
    "\n",
    "df = spark.createDataFrame(data, [\"features\"])\n",
    "df.show()"
   ]
  },
  {
   "cell_type": "code",
   "execution_count": 4,
   "metadata": {
    "slideshow": {
     "slide_type": "subslide"
    }
   },
   "outputs": [
    {
     "name": "stderr",
     "output_type": "stream",
     "text": [
      "22/05/06 15:51:47 WARN InstanceBuilder$NativeBLAS: Failed to load implementation from:dev.ludovic.netlib.blas.JNIBLAS\n",
      "22/05/06 15:51:47 WARN InstanceBuilder$NativeBLAS: Failed to load implementation from:dev.ludovic.netlib.blas.ForeignLinkerBLAS\n",
      "/Users/nics/miniforge3/lib/python3.9/site-packages/pyspark/sql/context.py:125: FutureWarning: Deprecated in 3.0.0. Use SparkSession.builder.getOrCreate() instead.\n",
      "  warnings.warn(\n"
     ]
    },
    {
     "name": "stdout",
     "output_type": "stream",
     "text": [
      "Pearson correlation matrix:\n",
      "DenseMatrix([[1., 1., 1., 1.],\n",
      "             [1., 1., 1., 1.],\n",
      "             [1., 1., 1., 1.],\n",
      "             [1., 1., 1., 1.]])\n",
      "Spearman correlation matrix:\n",
      "DenseMatrix([[1., 1., 1., 1.],\n",
      "             [1., 1., 1., 1.],\n",
      "             [1., 1., 1., 1.],\n",
      "             [1., 1., 1., 1.]])\n"
     ]
    }
   ],
   "source": [
    "r1 = Correlation.corr(df, \"features\").head()\n",
    "print(\"Pearson correlation matrix:\\n\" + str(r1[0]))\n",
    "\n",
    "r2 = Correlation.corr(df, \"features\", \"spearman\").head()\n",
    "print(\"Spearman correlation matrix:\\n\" + str(r2[0]))"
   ]
  },
  {
   "cell_type": "markdown",
   "metadata": {
    "slideshow": {
     "slide_type": "subslide"
    }
   },
   "source": [
    "## Hypothesis testing\n",
    "Hypothesis testing is a powerful tool in statistics to determine whether a result is statistically significant, whether this result occurred by chance or not. spark.ml currently supports Pearson’s Chi-squared ( χ2) tests for independence.\n",
    "\n",
    "ChiSquareTest conducts Pearson’s independence test for every feature against the label. For each feature, the (feature, label) pairs are converted into a contingency matrix for which the Chi-squared statistic is computed. All label and feature values must be categorical."
   ]
  },
  {
   "cell_type": "code",
   "execution_count": 5,
   "metadata": {
    "slideshow": {
     "slide_type": "subslide"
    }
   },
   "outputs": [
    {
     "name": "stdout",
     "output_type": "stream",
     "text": [
      "+-----+-------------+\n",
      "|label|     features|\n",
      "+-----+-------------+\n",
      "|    1|[333.0,388.0]|\n",
      "|    2|[333.0,322.0]|\n",
      "|    3|[333.0,314.0]|\n",
      "|    4|[333.0,316.0]|\n",
      "|    5|[333.0,344.0]|\n",
      "|    6|[333.0,316.0]|\n",
      "+-----+-------------+\n",
      "\n",
      "pValues: [1.0,0.24239216167051258]\n",
      "degreesOfFreedom: [0, 20]\n",
      "statistics: [0.0,24.00000000000001]\n"
     ]
    }
   ],
   "source": [
    "from pyspark.ml.linalg import Vectors\n",
    "from pyspark.ml.stat import ChiSquareTest\n",
    "\n",
    "#https://it.wikipedia.org/wiki/Test_chi_quadrato\n",
    "data = [(1, Vectors.dense(333,388)),\n",
    "        (2, Vectors.dense(333,322)),\n",
    "        (3, Vectors.dense(333,314)),\n",
    "        (4, Vectors.dense(333,316)),\n",
    "        (5, Vectors.dense(333,344)),\n",
    "        (6, Vectors.dense(333 ,316))]\n",
    "df = spark.createDataFrame(data, [\"label\", \"features\"])\n",
    "df.show()\n",
    "r = ChiSquareTest.test(df, \"features\", \"label\").head()\n",
    "print(\"pValues: \" + str(r.pValues))\n",
    "print(\"degreesOfFreedom: \" + str(r.degreesOfFreedom))\n",
    "print(\"statistics: \" + str(r.statistics))"
   ]
  },
  {
   "cell_type": "markdown",
   "metadata": {
    "slideshow": {
     "slide_type": "subslide"
    }
   },
   "source": [
    "## Summarizer\n",
    "We provide vector column summary statistics for Dataframe through Summarizer.\n",
    "\n",
    "Available metrics are the column-wise max, min, mean, variance, and number of nonzeros, as well as the total count."
   ]
  },
  {
   "cell_type": "code",
   "execution_count": 13,
   "metadata": {
    "slideshow": {
     "slide_type": "subslide"
    }
   },
   "outputs": [],
   "source": [
    "from pyspark.ml.stat import Summarizer\n",
    "from pyspark.sql import Row\n",
    "from pyspark.ml.linalg import Vectors\n",
    "\n",
    "# Usage of spark.sparkContext to get sc \n",
    "\n",
    "df = spark.sparkContext.parallelize(\n",
    "    [Row(weight=1.0, features=Vectors.dense(1.0, 1.0, 1.0)),\n",
    "     Row(weight=0.0, features=Vectors.dense(1.0, 2.0, 3.0)),\n",
    "    Row(weight=2.0, features=Vectors.dense(4.0, 8.0, 12.0))]\n",
    "    ).toDF()"
   ]
  },
  {
   "cell_type": "code",
   "execution_count": 14,
   "metadata": {
    "slideshow": {
     "slide_type": "subslide"
    }
   },
   "outputs": [
    {
     "name": "stdout",
     "output_type": "stream",
     "text": [
      "+------+--------------+\n",
      "|weight|      features|\n",
      "+------+--------------+\n",
      "|   1.0| [1.0,1.0,1.0]|\n",
      "|   0.0| [1.0,2.0,3.0]|\n",
      "|   2.0|[4.0,8.0,12.0]|\n",
      "+------+--------------+\n",
      "\n"
     ]
    }
   ],
   "source": [
    "df.show()"
   ]
  },
  {
   "cell_type": "code",
   "execution_count": 15,
   "metadata": {
    "slideshow": {
     "slide_type": "subslide"
    }
   },
   "outputs": [
    {
     "data": {
      "text/plain": [
       "<pyspark.ml.stat.SummaryBuilder at 0x107469520>"
      ]
     },
     "execution_count": 15,
     "metadata": {},
     "output_type": "execute_result"
    }
   ],
   "source": [
    "# create summarizer for multiple metrics \"mean\" and \"count\"\n",
    "summarizer = Summarizer.metrics(\"mean\", \"count\")\n",
    "\n",
    "summarizer"
   ]
  },
  {
   "cell_type": "code",
   "execution_count": 16,
   "metadata": {
    "slideshow": {
     "slide_type": "subslide"
    }
   },
   "outputs": [
    {
     "name": "stdout",
     "output_type": "stream",
     "text": [
      "+----------------------------------------------+\n",
      "|aggregate_metrics(features, weight)           |\n",
      "+----------------------------------------------+\n",
      "|{[3.0,5.666666666666667,8.333333333333332], 2}|\n",
      "+----------------------------------------------+\n",
      "\n"
     ]
    }
   ],
   "source": [
    "# compute statistics for multiple metrics with weight\n",
    "df.select(summarizer.summary(df.features, df.weight)).show(truncate=False)"
   ]
  },
  {
   "cell_type": "code",
   "execution_count": 17,
   "metadata": {
    "slideshow": {
     "slide_type": "subslide"
    }
   },
   "outputs": [
    {
     "name": "stdout",
     "output_type": "stream",
     "text": [
      "+-----------------------------------------------+\n",
      "|aggregate_metrics(features, 1.0)               |\n",
      "+-----------------------------------------------+\n",
      "|{[2.0,3.6666666666666665,5.333333333333334], 3}|\n",
      "+-----------------------------------------------+\n",
      "\n"
     ]
    }
   ],
   "source": [
    "# compute statistics for multiple metrics without weight\n",
    "df.select(summarizer.summary(df.features)).show(truncate=False)"
   ]
  },
  {
   "cell_type": "code",
   "execution_count": 12,
   "metadata": {
    "slideshow": {
     "slide_type": "subslide"
    }
   },
   "outputs": [
    {
     "name": "stdout",
     "output_type": "stream",
     "text": [
      "+--------------+\n",
      "|mean(features)|\n",
      "+--------------+\n",
      "|[1.0,1.0,1.0] |\n",
      "+--------------+\n",
      "\n"
     ]
    }
   ],
   "source": [
    "# compute statistics for single metric \"mean\" with weight\n",
    "df.select(Summarizer.mean(df.features, df.weight)).show(truncate=False)"
   ]
  },
  {
   "cell_type": "code",
   "execution_count": 11,
   "metadata": {
    "slideshow": {
     "slide_type": "subslide"
    }
   },
   "outputs": [
    {
     "name": "stdout",
     "output_type": "stream",
     "text": [
      "+--------------+\n",
      "|mean(features)|\n",
      "+--------------+\n",
      "|[1.0,1.5,2.0] |\n",
      "+--------------+\n",
      "\n"
     ]
    }
   ],
   "source": [
    "# compute statistics for single metric \"mean\" without weight\n",
    "df.select(Summarizer.mean(df.features)).show(truncate=False)"
   ]
  },
  {
   "cell_type": "markdown",
   "metadata": {
    "slideshow": {
     "slide_type": "slide"
    }
   },
   "source": [
    "# Pipelines"
   ]
  },
  {
   "cell_type": "markdown",
   "metadata": {
    "slideshow": {
     "slide_type": "subslide"
    }
   },
   "source": [
    "MLlib standardizes APIs for machine learning algorithms to make it easier to combine multiple algorithms into a single pipeline, or workflow. \n",
    "\n",
    "This section covers the key concepts introduced by the Pipelines API, where the pipeline concept is mostly inspired by the scikit-learn project."
   ]
  },
  {
   "cell_type": "markdown",
   "metadata": {
    "slideshow": {
     "slide_type": "subslide"
    }
   },
   "source": [
    "**DataFrame**\n",
    "\n",
    "This ML API uses DataFrame from Spark SQL as an ML dataset, which can hold a variety of data types. \n",
    "\n",
    "E.g., a DataFrame could have different columns storing text, feature vectors, true labels, and predictions."
   ]
  },
  {
   "cell_type": "markdown",
   "metadata": {
    "slideshow": {
     "slide_type": "subslide"
    }
   },
   "source": [
    "**Transformer** \n",
    "\n",
    "A Transformer is an algorithm which can transform one DataFrame into another DataFrame.\n",
    "\n",
    "E.g., an ML model is a Transformer which transforms a DataFrame with features into a DataFrame with predictions."
   ]
  },
  {
   "cell_type": "markdown",
   "metadata": {
    "slideshow": {
     "slide_type": "subslide"
    }
   },
   "source": [
    "**Estimator**\n",
    "\n",
    "An Estimator is an algorithm which can be fit on a DataFrame to produce a Transformer. \n",
    "\n",
    "E.g., a learning algorithm is an Estimator which trains on a DataFrame and produces a model."
   ]
  },
  {
   "cell_type": "markdown",
   "metadata": {
    "slideshow": {
     "slide_type": "subslide"
    }
   },
   "source": [
    "**Pipeline**\n",
    "\n",
    "A Pipeline chains multiple Transformers and Estimators together to specify an ML workflow."
   ]
  },
  {
   "cell_type": "markdown",
   "metadata": {
    "slideshow": {
     "slide_type": "subslide"
    }
   },
   "source": [
    "**Parameter** \n",
    "\n",
    "All Transformers and Estimators now share a common API for specifying parameters."
   ]
  },
  {
   "cell_type": "markdown",
   "metadata": {
    "slideshow": {
     "slide_type": "subslide"
    }
   },
   "source": [
    "### DataFrame\n",
    "Machine learning can be applied to a wide variety of data types, such as vectors, text, images, and structured data. \n",
    "\n",
    "This API adopts the DataFrame from Spark SQL in order to support a variety of data types."
   ]
  },
  {
   "cell_type": "markdown",
   "metadata": {
    "slideshow": {
     "slide_type": "subslide"
    }
   },
   "source": [
    "DataFrame supports many basic and structured types; see the Spark SQL datatype reference for a list of supported types. In addition to the types listed in the Spark SQL guide, DataFrame can use ML Vector types.\n",
    "\n",
    "A DataFrame can be created either implicitly or explicitly from a regular RDD. See the code examples below and the Spark SQL programming guide for examples.\n",
    "\n",
    "Columns in a DataFrame are named. The code examples below use names such as “text,” “features,” and “label.”"
   ]
  },
  {
   "cell_type": "markdown",
   "metadata": {
    "slideshow": {
     "slide_type": "subslide"
    }
   },
   "source": [
    "### Transformers\n",
    "A Transformer is an abstraction that includes feature transformers and learned models. \n",
    "\n",
    "Technically, a Transformer implements a method transform(), which converts one DataFrame into another, generally by appending one or more columns. \n",
    "\n",
    "For example:\n",
    "* A feature transformer might take a DataFrame, read a column (e.g., text), map it into a new column (e.g., feature vectors), and output a new DataFrame with the mapped column appended.\n",
    "* A learning model might take a DataFrame, read the column containing feature vectors, predict the label for each feature vector, and output a new DataFrame with predicted labels appended as a column."
   ]
  },
  {
   "cell_type": "markdown",
   "metadata": {
    "slideshow": {
     "slide_type": "subslide"
    }
   },
   "source": [
    "### Estimators\n",
    "An Estimator abstracts the concept of a learning algorithm or any algorithm that fits or trains on data. \n",
    "\n",
    "Technically, an Estimator implements a method fit(), which accepts a DataFrame and produces a Model, which is a Transformer. \n",
    "\n",
    "For example, a learning algorithm such as LogisticRegression is an Estimator, \n",
    "and calling fit() trains a LogisticRegressionModel, which is a Model and hence a Transformer."
   ]
  },
  {
   "cell_type": "markdown",
   "metadata": {
    "slideshow": {
     "slide_type": "subslide"
    }
   },
   "source": [
    "## Pipeline\n",
    "In machine learning, it is common to run a sequence of algorithms to process and learn from data. E.g., a simple text document processing workflow might include several stages:\n",
    "\n",
    "* Split each document’s text into words.\n",
    "* Convert each document’s words into a numerical feature vector.\n",
    "* Learn a prediction model using the feature vectors and labels.\n",
    "\n",
    "MLlib represents such a workflow as a Pipeline, which consists of a sequence of PipelineStages (Transformers and Estimators) to be run in a specific order. "
   ]
  },
  {
   "cell_type": "markdown",
   "metadata": {
    "slideshow": {
     "slide_type": "subslide"
    }
   },
   "source": [
    "# How it works\n",
    "A Pipeline is specified as a sequence of stages, and each stage is either a Transformer or an Estimator. \n",
    "\n",
    "These stages are run in order, and the input DataFrame is transformed as it passes through each stage. \n",
    "\n",
    "For Transformer stages, the transform() method is called on the DataFrame. \n",
    "\n",
    "For Estimator stages, the fit() method is called to produce a Transformer (which becomes part of the PipelineModel, or fitted Pipeline), and that Transformer’s transform() method is called on the DataFrame."
   ]
  },
  {
   "cell_type": "markdown",
   "metadata": {
    "slideshow": {
     "slide_type": "subslide"
    }
   },
   "source": [
    "# A simple Text document workflow"
   ]
  },
  {
   "cell_type": "markdown",
   "metadata": {
    "cell_style": "split",
    "slideshow": {
     "slide_type": "subslide"
    }
   },
   "source": [
    "![](https://spark.apache.org/docs/latest/img/ml-Pipeline.png)"
   ]
  },
  {
   "cell_type": "markdown",
   "metadata": {
    "cell_style": "split",
    "slideshow": {
     "slide_type": "fragment"
    }
   },
   "source": [
    "Above, the top row represents a Pipeline with three stages. The first two (Tokenizer and HashingTF) are Transformers (blue), and the third (LogisticRegression) is an Estimator (red). The bottom row represents data flowing through the pipeline, where cylinders indicate DataFrames. The Pipeline.fit() method is called on the original DataFrame, which has raw text documents and labels. \n",
    "\n",
    "The Tokenizer.transform() method splits the raw text documents into words, adding a new column with words to the DataFrame. \n",
    "\n",
    "The HashingTF.transform() method converts the words column into feature vectors, adding a new column with those vectors to the DataFrame. Now, since LogisticRegression is an Estimator, the Pipeline first calls LogisticRegression.fit() to produce a LogisticRegressionModel."
   ]
  },
  {
   "cell_type": "markdown",
   "metadata": {
    "cell_style": "split",
    "slideshow": {
     "slide_type": "subslide"
    }
   },
   "source": [
    "![](https://spark.apache.org/docs/latest/img/ml-PipelineModel.png)"
   ]
  },
  {
   "cell_type": "markdown",
   "metadata": {
    "cell_style": "split",
    "slideshow": {
     "slide_type": "fragment"
    }
   },
   "source": [
    "In the figure above, the PipelineModel has the same number of stages as the original Pipeline, but all Estimators in the original Pipeline have become Transformers. When the PipelineModel’s transform() method is called on a test dataset, the data are passed through the fitted pipeline in order. Each stage’s transform() method updates the dataset and passes it to the next stage.\n",
    "\n",
    "Pipelines and PipelineModels help to ensure that training and test data go through identical feature processing steps."
   ]
  },
  {
   "cell_type": "markdown",
   "metadata": {
    "slideshow": {
     "slide_type": "subslide"
    }
   },
   "source": [
    "### ML persistence: Saving and Loading Pipelines\n",
    "Often times it is worth it to save a model or a pipeline to disk for later use. In Spark 1.6, a model import/export functionality was added to the Pipeline API. As of Spark 2.3, the DataFrame-based API in spark.ml and pyspark.ml has complete coverage.\n",
    "\n",
    "ML persistence works across Scala, Java and Python. However, R currently uses a modified format, so models saved in R can only be loaded back in R;"
   ]
  },
  {
   "cell_type": "code",
   "execution_count": 18,
   "metadata": {
    "slideshow": {
     "slide_type": "subslide"
    }
   },
   "outputs": [
    {
     "name": "stdout",
     "output_type": "stream",
     "text": [
      "+---+----------------+-----+\n",
      "| id|            text|label|\n",
      "+---+----------------+-----+\n",
      "|  0| a b c d e spark|  1.0|\n",
      "|  1|             b d|  0.0|\n",
      "|  2|     spark f g h|  1.0|\n",
      "|  3|hadoop mapreduce|  0.0|\n",
      "+---+----------------+-----+\n",
      "\n"
     ]
    }
   ],
   "source": [
    "from pyspark.ml import Pipeline\n",
    "from pyspark.ml.classification import LogisticRegression\n",
    "from pyspark.ml.feature import HashingTF, Tokenizer\n",
    "\n",
    "# Prepare training documents from a list of (id, text, label) tuples.\n",
    "training = spark.createDataFrame([\n",
    "    (0, \"a b c d e spark\", 1.0),\n",
    "    (1, \"b d\", 0.0),\n",
    "    (2, \"spark f g h\", 1.0),\n",
    "    (3, \"hadoop mapreduce\", 0.0)\n",
    "], [\"id\", \"text\", \"label\"])\n",
    "training.show()"
   ]
  },
  {
   "cell_type": "code",
   "execution_count": 19,
   "metadata": {
    "slideshow": {
     "slide_type": "subslide"
    }
   },
   "outputs": [],
   "source": [
    "# Configure an ML pipeline, which consists of three stages: tokenizer, hashingTF, and lr.\n",
    "tokenizer = Tokenizer(inputCol=\"text\", outputCol=\"words\")\n",
    "hashingTF = HashingTF(inputCol=tokenizer.getOutputCol(), outputCol=\"features\")\n",
    "lr = LogisticRegression(maxIter=10, regParam=0.001)\n",
    "pipeline = Pipeline(stages=[tokenizer, hashingTF, lr])\n"
   ]
  },
  {
   "cell_type": "code",
   "execution_count": 20,
   "metadata": {
    "slideshow": {
     "slide_type": "subslide"
    }
   },
   "outputs": [
    {
     "name": "stderr",
     "output_type": "stream",
     "text": [
      "22/05/06 16:12:32 WARN BLAS: Failed to load implementation from: com.github.fommil.netlib.NativeSystemBLAS\n",
      "22/05/06 16:12:32 WARN BLAS: Failed to load implementation from: com.github.fommil.netlib.NativeRefBLAS\n"
     ]
    },
    {
     "data": {
      "text/plain": [
       "PipelineModel_f4618f51aacf"
      ]
     },
     "execution_count": 20,
     "metadata": {},
     "output_type": "execute_result"
    }
   ],
   "source": [
    "# Fit the pipeline to training documents.\n",
    "model = pipeline.fit(training)\n",
    "model"
   ]
  },
  {
   "cell_type": "code",
   "execution_count": 21,
   "metadata": {},
   "outputs": [
    {
     "data": {
      "text/plain": [
       "PipelineModel_f4618f51aacf"
      ]
     },
     "execution_count": 21,
     "metadata": {},
     "output_type": "execute_result"
    }
   ],
   "source": [
    "model"
   ]
  },
  {
   "cell_type": "code",
   "execution_count": 30,
   "metadata": {
    "slideshow": {
     "slide_type": "subslide"
    }
   },
   "outputs": [
    {
     "name": "stdout",
     "output_type": "stream",
     "text": [
      "+---+---------------+\n",
      "| id|           text|\n",
      "+---+---------------+\n",
      "|  4|a b c d e spark|\n",
      "|  5|         batman|\n",
      "|  6| spark a hadoop|\n",
      "|  7|  apache hadoop|\n",
      "+---+---------------+\n",
      "\n"
     ]
    }
   ],
   "source": [
    "# Prepare test documents, which are unlabeled (id, text) tuples.\n",
    "test = spark.createDataFrame([\n",
    "    (4, \"a b c d e spark\"),\n",
    "    (5, \"batman\"),\n",
    "    (6, \"spark a hadoop\"),\n",
    "    (7, \"apache hadoop\")\n",
    "], [\"id\", \"text\"])\n",
    "test.show()"
   ]
  },
  {
   "cell_type": "code",
   "execution_count": 31,
   "metadata": {
    "slideshow": {
     "slide_type": "subslide"
    }
   },
   "outputs": [],
   "source": [
    "# Make predictions on test documents and print columns of interest.\n",
    "prediction = model.transform(test)"
   ]
  },
  {
   "cell_type": "code",
   "execution_count": 32,
   "metadata": {},
   "outputs": [
    {
     "name": "stdout",
     "output_type": "stream",
     "text": [
      "+---+---------------+--------------------+--------------------+--------------------+--------------------+----------+\n",
      "| id|           text|               words|            features|       rawPrediction|         probability|prediction|\n",
      "+---+---------------+--------------------+--------------------+--------------------+--------------------+----------+\n",
      "|  4|a b c d e spark|[a, b, c, d, e, s...|(262144,[74920,89...|[-5.9388192690226...|[0.00262821349694...|       1.0|\n",
      "|  5|         batman|            [batman]|(262144,[178334],...|[4.16914139534005...|[0.98477000676230...|       0.0|\n",
      "|  6| spark a hadoop|  [spark, a, hadoop]|(262144,[107107,1...|[-0.8643395027097...|[0.29643349723932...|       1.0|\n",
      "|  7|  apache hadoop|    [apache, hadoop]|(262144,[68303,19...|[5.41564427200184...|[0.99557321143985...|       0.0|\n",
      "+---+---------------+--------------------+--------------------+--------------------+--------------------+----------+\n",
      "\n"
     ]
    }
   ],
   "source": [
    "prediction.show()"
   ]
  },
  {
   "cell_type": "code",
   "execution_count": 28,
   "metadata": {
    "slideshow": {
     "slide_type": "subslide"
    }
   },
   "outputs": [
    {
     "name": "stdout",
     "output_type": "stream",
     "text": [
      "(4, spark) --> prob=[0.6292098489668484,0.3707901510331516], prediction=0.000000\n",
      "(5, batman) --> prob=[0.984770006762304,0.015229993237696027], prediction=0.000000\n",
      "(6, spark a hadoop) --> prob=[0.29643349723932244,0.7035665027606776], prediction=1.000000\n",
      "(7, apache hadoop) --> prob=[0.9955732114398529,0.00442678856014711], prediction=0.000000\n"
     ]
    }
   ],
   "source": [
    "selected = prediction.select(\"id\", \"text\", \"probability\", \"prediction\")\n",
    "for row in selected.collect():\n",
    "    rid, text, prob, prediction = row\n",
    "    print(\"(%d, %s) --> prob=%s, prediction=%f\" % (rid, text, str(prob), prediction))"
   ]
  },
  {
   "cell_type": "code",
   "execution_count": 29,
   "metadata": {
    "slideshow": {
     "slide_type": "subslide"
    }
   },
   "outputs": [
    {
     "name": "stdout",
     "output_type": "stream",
     "text": [
      "(0, a b c d e spark) --> prob=[0.0026282134969420265,0.997371786503058], prediction=1.000000\n",
      "(1, b d) --> prob=[0.9963902711801113,0.0036097288198887467], prediction=0.000000\n",
      "(2, spark f g h) --> prob=[0.0022081050570269935,0.997791894942973], prediction=1.000000\n",
      "(3, hadoop mapreduce) --> prob=[0.9987232337063715,0.0012767662936284951], prediction=0.000000\n"
     ]
    }
   ],
   "source": [
    "# Make predictions on training documents and print columns of interest.\n",
    "prediction = model.transform(training)\n",
    "selected = prediction.select(\"id\", \"text\", \"probability\", \"prediction\")\n",
    "for row in selected.collect():\n",
    "    rid, text, prob, prediction = row\n",
    "    print(\"(%d, %s) --> prob=%s, prediction=%f\" % (rid, text, str(prob), prediction))"
   ]
  },
  {
   "cell_type": "code",
   "execution_count": 33,
   "metadata": {
    "slideshow": {
     "slide_type": "subslide"
    }
   },
   "outputs": [
    {
     "data": {
      "text/plain": [
       "[Tokenizer_4ca323128ebb,\n",
       " HashingTF_49be7f63a82d,\n",
       " LogisticRegressionModel: uid=LogisticRegression_094706336910, numClasses=2, numFeatures=262144]"
      ]
     },
     "execution_count": 33,
     "metadata": {},
     "output_type": "execute_result"
    }
   ],
   "source": [
    "model.stages"
   ]
  },
  {
   "cell_type": "code",
   "execution_count": 34,
   "metadata": {
    "slideshow": {
     "slide_type": "subslide"
    }
   },
   "outputs": [
    {
     "data": {
      "text/plain": [
       "1.0"
      ]
     },
     "execution_count": 34,
     "metadata": {},
     "output_type": "execute_result"
    }
   ],
   "source": [
    "# Extract \n",
    "# Extract the summary from the returned LogisticRegressionModel instance trained\n",
    "# in the earlier example\n",
    "modelSummary = model.stages[2].summary\n",
    "\n",
    "modelSummary.accuracy"
   ]
  },
  {
   "cell_type": "code",
   "execution_count": 35,
   "metadata": {
    "slideshow": {
     "slide_type": "subslide"
    }
   },
   "outputs": [
    {
     "data": {
      "text/plain": [
       "<pyspark.ml.classification.BinaryLogisticRegressionTrainingSummary at 0x162f79340>"
      ]
     },
     "execution_count": 35,
     "metadata": {},
     "output_type": "execute_result"
    }
   ],
   "source": [
    "modelSummary"
   ]
  },
  {
   "cell_type": "code",
   "execution_count": 36,
   "metadata": {
    "slideshow": {
     "slide_type": "subslide"
    }
   },
   "outputs": [
    {
     "name": "stdout",
     "output_type": "stream",
     "text": [
      "(8, mapreduce hadopp spark) --> prob=[0.8551194341387974,0.14488056586120257], prediction=0.000000\n"
     ]
    }
   ],
   "source": [
    "test2 = spark.createDataFrame([\n",
    "    (8, \"mapreduce hadopp spark\")\n",
    "], [\"id\", \"text\"])\n",
    "\n",
    "# Make predictions on training documents and print columns of interest.\n",
    "prediction = model.transform(test2)\n",
    "selected = prediction.select(\"id\", \"text\", \"probability\", \"prediction\")\n",
    "for row in selected.collect():\n",
    "    rid, text, prob, prediction = row\n",
    "    print(\"(%d, %s) --> prob=%s, prediction=%f\" % (rid, text, str(prob), prediction))"
   ]
  },
  {
   "cell_type": "markdown",
   "metadata": {
    "slideshow": {
     "slide_type": "slide"
    }
   },
   "source": [
    "## Extracting, transforming and selecting features\n",
    "https://spark.apache.org/docs/latest/ml-features.html#extracting-transforming-and-selecting-features"
   ]
  },
  {
   "cell_type": "markdown",
   "metadata": {
    "slideshow": {
     "slide_type": "subslide"
    }
   },
   "source": [
    "* Extraction: Extracting features from “raw” data\n",
    "* Transformation: Scaling, converting, or modifying features\n",
    "* Selection: Selecting a subset from a larger set of features\n",
    "* Locality Sensitive Hashing (LSH): This class of algorithms combines aspects of feature transformation with other algorithms."
   ]
  },
  {
   "cell_type": "markdown",
   "metadata": {
    "slideshow": {
     "slide_type": "subslide"
    }
   },
   "source": [
    "# Word2Vec\n",
    "Word2Vec computes distributed vector representation of words. \n",
    "\n",
    "The main advantage of the distributed representations is that similar words are close in the vector space, which makes generalization to novel patterns easier and model estimation more robust. \n",
    "\n",
    "Distributed vector representation is showed to be useful in many natural language processing applications such as named entity recognition, disambiguation, parsing, tagging and machine translation.\n"
   ]
  },
  {
   "cell_type": "code",
   "execution_count": 37,
   "metadata": {
    "slideshow": {
     "slide_type": "subslide"
    }
   },
   "outputs": [
    {
     "name": "stdout",
     "output_type": "stream",
     "text": [
      "+------------------------------------------+\n",
      "|text                                      |\n",
      "+------------------------------------------+\n",
      "|[Hi, I, heard, about, Spark]              |\n",
      "|[I, wish, Java, could, use, case, classes]|\n",
      "|[Logistic, regression, models, are, neat] |\n",
      "+------------------------------------------+\n",
      "\n"
     ]
    }
   ],
   "source": [
    "from pyspark.ml.feature import Word2Vec\n",
    "\n",
    "# Input data: Each row is a bag of words from a sentence or document.\n",
    "documentDF = spark.createDataFrame([\n",
    "    (\"Hi I heard about Spark\".split(\" \"), ),\n",
    "    (\"I wish Java could use case classes\".split(\" \"), ),\n",
    "    (\"Logistic regression models are neat\".split(\" \"), )\n",
    "], [\"text\"])\n",
    " \n",
    "documentDF.show(truncate=False)"
   ]
  },
  {
   "cell_type": "code",
   "execution_count": 38,
   "metadata": {
    "slideshow": {
     "slide_type": "subslide"
    }
   },
   "outputs": [
    {
     "data": {
      "text/plain": [
       "Word2VecModel: uid=Word2Vec_bc3076716784, numWords=16, vectorSize=3"
      ]
     },
     "execution_count": 38,
     "metadata": {},
     "output_type": "execute_result"
    }
   ],
   "source": [
    "# Learn a mapping from words to Vectors.\n",
    "word2Vec = Word2Vec(vectorSize=3, minCount=0, inputCol=\"text\", outputCol=\"result\")\n",
    "model = word2Vec.fit(documentDF)\n",
    "model"
   ]
  },
  {
   "cell_type": "code",
   "execution_count": 39,
   "metadata": {
    "slideshow": {
     "slide_type": "subslide"
    }
   },
   "outputs": [
    {
     "name": "stdout",
     "output_type": "stream",
     "text": [
      "Text: [Hi, I, heard, about, Spark] => \n",
      "Vector: [0.03966484153643251,0.05226096697151661,-0.04650120977312327]\n",
      "\n",
      "Text: [I, wish, Java, could, use, case, classes] => \n",
      "Vector: [-0.015706297010183334,-0.02385868637689522,-0.04723267895834786]\n",
      "\n",
      "Text: [Logistic, regression, models, are, neat] => \n",
      "Vector: [0.004924680665135384,0.05516274943947792,0.027266723848879338]\n",
      "\n"
     ]
    }
   ],
   "source": [
    "result = model.transform(documentDF)\n",
    "for row in result.collect():\n",
    "    text, vector = row\n",
    "    print(\"Text: [%s] => \\nVector: %s\\n\" % (\", \".join(text), str(vector)))"
   ]
  },
  {
   "cell_type": "markdown",
   "metadata": {
    "slideshow": {
     "slide_type": "slide"
    }
   },
   "source": [
    "# Classification and regression\n",
    "https://spark.apache.org/docs/latest/ml-classification-regression.html#classification-and-regression"
   ]
  },
  {
   "cell_type": "markdown",
   "metadata": {
    "slideshow": {
     "slide_type": "subslide"
    }
   },
   "source": [
    "## Logistic regression\n",
    "Logistic regression is a popular method to predict a categorical response. It is a special case of Generalized Linear models that predicts the probability of the outcomes. In spark.ml logistic regression can be used to predict a binary outcome by using binomial logistic regression, or it can be used to predict a multiclass outcome by using multinomial logistic regression. Use the family parameter to select between these two algorithms, or leave it unset and Spark will infer the correct variant.\n",
    "\n",
    "> Multinomial logistic regression can be used for binary classification by setting the family param to “multinomial”. It will produce two sets of coefficients and two intercepts.\n",
    "\n"
   ]
  },
  {
   "cell_type": "code",
   "execution_count": 41,
   "metadata": {
    "slideshow": {
     "slide_type": "subslide"
    }
   },
   "outputs": [
    {
     "name": "stdout",
     "output_type": "stream",
     "text": [
      "+-----+--------------------------------------------------------------------------------------------------------------------------------------------------------------------------------------------------------------------------------------------------------------------------------------------------------------------------------------------------------------------------------------------------------------------------------------------------------------------------------------------------------------------------------------------------------------------------------------------------------------------------------------------------------------------------------------------------------------------------------------------------------------------------------------------------------------------------------------------------------------------------------------------------------------------------------------------------------------------------------------------------------------------------------------------------------------------------------------------------------------------------------------------------------------------------------------------------------------------------------------------------------------------------------------------------------------------------------------------------------------------------------------------------------------------------------------------------------------------------------------------------------------------------------------------------------------------------------------------------------------------------------------------------------------------------------------------------------------------------------------------------------------------------------------------------------------------------------------------------------------------------------------------------------------------------------------------------------------------------------------------------------------------------------------------------------------------------------------------------------------------------------------------------------------------------------------------------------------------------------------------------------------------------------------------------------------------------------------------------------------------------------------------------------------------------------------------------------+\n",
      "|label|features                                                                                                                                                                                                                                                                                                                                                                                                                                                                                                                                                                                                                                                                                                                                                                                                                                                                                                                                                                                                                                                                                                                                                                                                                                                                                                                                                                                                                                                                                                                                                                                                                                                                                                                                                                                                                                                                                                                                                                                                                                                                                                                                                                                                                                                                                                                                                                                                                                                |\n",
      "+-----+--------------------------------------------------------------------------------------------------------------------------------------------------------------------------------------------------------------------------------------------------------------------------------------------------------------------------------------------------------------------------------------------------------------------------------------------------------------------------------------------------------------------------------------------------------------------------------------------------------------------------------------------------------------------------------------------------------------------------------------------------------------------------------------------------------------------------------------------------------------------------------------------------------------------------------------------------------------------------------------------------------------------------------------------------------------------------------------------------------------------------------------------------------------------------------------------------------------------------------------------------------------------------------------------------------------------------------------------------------------------------------------------------------------------------------------------------------------------------------------------------------------------------------------------------------------------------------------------------------------------------------------------------------------------------------------------------------------------------------------------------------------------------------------------------------------------------------------------------------------------------------------------------------------------------------------------------------------------------------------------------------------------------------------------------------------------------------------------------------------------------------------------------------------------------------------------------------------------------------------------------------------------------------------------------------------------------------------------------------------------------------------------------------------------------------------------------------+\n",
      "|0.0  |(692,[127,128,129,130,131,154,155,156,157,158,159,181,182,183,184,185,186,187,188,189,207,208,209,210,211,212,213,214,215,216,217,235,236,237,238,239,240,241,242,243,244,245,262,263,264,265,266,267,268,269,270,271,272,273,289,290,291,292,293,294,295,296,297,300,301,302,316,317,318,319,320,321,328,329,330,343,344,345,346,347,348,349,356,357,358,371,372,373,374,384,385,386,399,400,401,412,413,414,426,427,428,429,440,441,442,454,455,456,457,466,467,468,469,470,482,483,484,493,494,495,496,497,510,511,512,520,521,522,523,538,539,540,547,548,549,550,566,567,568,569,570,571,572,573,574,575,576,577,578,594,595,596,597,598,599,600,601,602,603,604,622,623,624,625,626,627,628,629,630,651,652,653,654,655,656,657],[51.0,159.0,253.0,159.0,50.0,48.0,238.0,252.0,252.0,252.0,237.0,54.0,227.0,253.0,252.0,239.0,233.0,252.0,57.0,6.0,10.0,60.0,224.0,252.0,253.0,252.0,202.0,84.0,252.0,253.0,122.0,163.0,252.0,252.0,252.0,253.0,252.0,252.0,96.0,189.0,253.0,167.0,51.0,238.0,253.0,253.0,190.0,114.0,253.0,228.0,47.0,79.0,255.0,168.0,48.0,238.0,252.0,252.0,179.0,12.0,75.0,121.0,21.0,253.0,243.0,50.0,38.0,165.0,253.0,233.0,208.0,84.0,253.0,252.0,165.0,7.0,178.0,252.0,240.0,71.0,19.0,28.0,253.0,252.0,195.0,57.0,252.0,252.0,63.0,253.0,252.0,195.0,198.0,253.0,190.0,255.0,253.0,196.0,76.0,246.0,252.0,112.0,253.0,252.0,148.0,85.0,252.0,230.0,25.0,7.0,135.0,253.0,186.0,12.0,85.0,252.0,223.0,7.0,131.0,252.0,225.0,71.0,85.0,252.0,145.0,48.0,165.0,252.0,173.0,86.0,253.0,225.0,114.0,238.0,253.0,162.0,85.0,252.0,249.0,146.0,48.0,29.0,85.0,178.0,225.0,253.0,223.0,167.0,56.0,85.0,252.0,252.0,252.0,229.0,215.0,252.0,252.0,252.0,196.0,130.0,28.0,199.0,252.0,252.0,253.0,252.0,252.0,233.0,145.0,25.0,128.0,252.0,253.0,252.0,141.0,37.0])                                                                                                                                                                                                                                                                                                                                                                                                                                                                                                                                                                                                                                                                 |\n",
      "|1.0  |(692,[158,159,160,161,185,186,187,188,189,213,214,215,216,217,240,241,242,243,244,245,267,268,269,270,271,295,296,297,298,322,323,324,325,326,349,350,351,352,353,377,378,379,380,381,404,405,406,407,408,431,432,433,434,435,459,460,461,462,463,486,487,488,489,490,514,515,516,517,518,542,543,544,545,569,570,571,572,573,596,597,598,599,600,601,624,625,626,627,652,653,654,655,680,681,682,683],[124.0,253.0,255.0,63.0,96.0,244.0,251.0,253.0,62.0,127.0,251.0,251.0,253.0,62.0,68.0,236.0,251.0,211.0,31.0,8.0,60.0,228.0,251.0,251.0,94.0,155.0,253.0,253.0,189.0,20.0,253.0,251.0,235.0,66.0,32.0,205.0,253.0,251.0,126.0,104.0,251.0,253.0,184.0,15.0,80.0,240.0,251.0,193.0,23.0,32.0,253.0,253.0,253.0,159.0,151.0,251.0,251.0,251.0,39.0,48.0,221.0,251.0,251.0,172.0,234.0,251.0,251.0,196.0,12.0,253.0,251.0,251.0,89.0,159.0,255.0,253.0,253.0,31.0,48.0,228.0,253.0,247.0,140.0,8.0,64.0,251.0,253.0,220.0,64.0,251.0,253.0,220.0,24.0,193.0,253.0,220.0])                                                                                                                                                                                                                                                                                                                                                                                                                                                                                                                                                                                                                                                                                                                                                                                                                                                                                                                                                                                                                                                                                                                                                                                                                                                                                                                                                                                                                                                                           |\n",
      "|1.0  |(692,[124,125,126,127,151,152,153,154,155,179,180,181,182,183,208,209,210,211,235,236,237,238,239,263,264,265,266,267,268,292,293,294,295,296,321,322,323,324,349,350,351,352,377,378,379,380,405,406,407,408,433,434,435,436,461,462,463,464,489,490,491,492,493,517,518,519,520,521,545,546,547,548,549,574,575,576,577,578,602,603,604,605,606,630,631,632,633,634,658,659,660,661,662],[145.0,255.0,211.0,31.0,32.0,237.0,253.0,252.0,71.0,11.0,175.0,253.0,252.0,71.0,144.0,253.0,252.0,71.0,16.0,191.0,253.0,252.0,71.0,26.0,221.0,253.0,252.0,124.0,31.0,125.0,253.0,252.0,252.0,108.0,253.0,252.0,252.0,108.0,255.0,253.0,253.0,108.0,253.0,252.0,252.0,108.0,253.0,252.0,252.0,108.0,253.0,252.0,252.0,108.0,255.0,253.0,253.0,170.0,253.0,252.0,252.0,252.0,42.0,149.0,252.0,252.0,252.0,144.0,109.0,252.0,252.0,252.0,144.0,218.0,253.0,253.0,255.0,35.0,175.0,252.0,252.0,253.0,35.0,73.0,252.0,252.0,253.0,35.0,31.0,211.0,252.0,253.0,35.0])                                                                                                                                                                                                                                                                                                                                                                                                                                                                                                                                                                                                                                                                                                                                                                                                                                                                                                                                                                                                                                                                                                                                                                                                                                                                                                                                                                                                                                                                                              |\n",
      "|1.0  |(692,[152,153,154,180,181,182,183,208,209,210,211,236,237,238,239,264,265,266,267,292,293,294,295,320,321,322,323,349,350,351,377,378,379,405,406,407,433,434,435,461,462,463,489,490,491,492,517,518,519,520,546,547,548,574,575,576,602,603,604,630,631,632,658,659,660,686,687,688],[5.0,63.0,197.0,20.0,254.0,230.0,24.0,20.0,254.0,254.0,48.0,20.0,254.0,255.0,48.0,20.0,254.0,254.0,57.0,20.0,254.0,254.0,108.0,16.0,239.0,254.0,143.0,178.0,254.0,143.0,178.0,254.0,143.0,178.0,254.0,162.0,178.0,254.0,240.0,113.0,254.0,240.0,83.0,254.0,245.0,31.0,79.0,254.0,246.0,38.0,214.0,254.0,150.0,144.0,241.0,8.0,144.0,240.0,2.0,144.0,254.0,82.0,230.0,247.0,40.0,168.0,209.0,31.0])                                                                                                                                                                                                                                                                                                                                                                                                                                                                                                                                                                                                                                                                                                                                                                                                                                                                                                                                                                                                                                                                                                                                                                                                                                                                                                                                                                                                                                                                                                                                                                                                                                                                                                                                                               |\n",
      "|1.0  |(692,[151,152,153,154,179,180,181,182,208,209,210,236,237,238,264,265,266,267,292,293,294,295,320,321,322,323,348,349,350,351,376,377,378,379,404,405,406,407,432,433,434,435,460,461,462,463,488,489,490,491,516,517,518,519,544,545,546,547,572,573,574,575,600,601,602,603,629,630,631,657,658,659,685,686,687],[1.0,168.0,242.0,28.0,10.0,228.0,254.0,100.0,190.0,254.0,122.0,83.0,254.0,162.0,29.0,254.0,248.0,25.0,29.0,255.0,254.0,103.0,29.0,254.0,254.0,109.0,29.0,254.0,254.0,109.0,29.0,254.0,254.0,109.0,29.0,255.0,254.0,109.0,29.0,254.0,254.0,109.0,29.0,254.0,254.0,63.0,29.0,254.0,254.0,28.0,29.0,254.0,254.0,28.0,29.0,254.0,254.0,35.0,29.0,254.0,254.0,109.0,6.0,212.0,254.0,109.0,203.0,254.0,178.0,155.0,254.0,190.0,32.0,199.0,104.0])                                                                                                                                                                                                                                                                                                                                                                                                                                                                                                                                                                                                                                                                                                                                                                                                                                                                                                                                                                                                                                                                                                                                                                                                                                                                                                                                                                                                                                                                                                                                                                                                                                                                                          |\n",
      "|0.0  |(692,[129,130,131,132,156,157,158,159,160,161,162,183,184,185,186,187,188,189,190,208,209,210,211,212,213,214,215,216,217,218,235,236,237,238,239,240,241,242,243,244,245,246,262,263,264,265,266,267,268,269,270,271,272,273,274,289,290,291,292,293,294,295,296,297,298,299,300,301,302,316,317,318,319,320,322,323,324,325,327,328,329,330,343,344,345,346,347,348,350,351,352,353,355,356,357,358,371,372,373,374,378,379,384,385,386,398,399,400,412,413,414,425,426,427,428,439,440,441,442,453,454,455,456,467,468,469,470,481,482,483,484,494,495,496,497,498,509,510,511,512,521,522,523,524,525,537,538,539,540,547,548,549,550,551,552,565,566,567,568,569,570,571,572,573,574,575,576,577,578,579,594,595,596,597,598,599,600,601,602,603,604,605,623,624,625,626,627,628,629,630,631,632,653,654,655,656,657,658],[64.0,253.0,255.0,63.0,96.0,205.0,251.0,253.0,205.0,111.0,4.0,96.0,189.0,251.0,251.0,253.0,251.0,251.0,31.0,16.0,64.0,223.0,244.0,251.0,251.0,211.0,213.0,251.0,251.0,31.0,80.0,181.0,251.0,253.0,251.0,251.0,251.0,94.0,96.0,251.0,251.0,31.0,92.0,253.0,253.0,253.0,255.0,253.0,253.0,253.0,95.0,96.0,253.0,253.0,31.0,92.0,236.0,251.0,243.0,220.0,233.0,251.0,251.0,243.0,82.0,96.0,251.0,251.0,31.0,80.0,253.0,251.0,251.0,188.0,96.0,251.0,251.0,109.0,96.0,251.0,251.0,31.0,96.0,240.0,253.0,243.0,188.0,42.0,96.0,204.0,109.0,4.0,12.0,197.0,251.0,31.0,221.0,251.0,253.0,121.0,36.0,23.0,190.0,251.0,31.0,48.0,234.0,253.0,191.0,253.0,31.0,44.0,221.0,251.0,251.0,12.0,197.0,251.0,31.0,190.0,251.0,251.0,251.0,96.0,251.0,251.0,31.0,190.0,251.0,251.0,113.0,40.0,234.0,251.0,219.0,23.0,190.0,251.0,251.0,94.0,40.0,217.0,253.0,231.0,47.0,191.0,253.0,253.0,253.0,12.0,174.0,253.0,253.0,219.0,39.0,67.0,236.0,251.0,251.0,191.0,190.0,111.0,72.0,190.0,191.0,197.0,251.0,243.0,121.0,39.0,63.0,236.0,251.0,253.0,251.0,251.0,251.0,251.0,253.0,251.0,188.0,94.0,27.0,129.0,253.0,251.0,251.0,251.0,251.0,229.0,168.0,15.0,95.0,212.0,251.0,211.0,94.0,59.0])                                                                                                                                                                                                                                                                                                                                                                                                                                               |\n",
      "|1.0  |(692,[158,159,160,185,186,187,188,189,212,213,214,215,216,217,240,241,242,243,244,267,268,269,270,271,272,295,296,297,298,299,323,324,325,326,350,351,352,353,354,377,378,379,380,381,404,405,406,407,408,432,433,434,435,436,459,460,461,462,463,486,487,488,489,490,513,514,515,516,517,541,542,543,544,545,569,570,571,572,573,597,598,599,600,624,625,626,627,628,652,653,654,655,681,682,683],[121.0,254.0,136.0,13.0,230.0,253.0,248.0,99.0,4.0,118.0,253.0,253.0,225.0,42.0,61.0,253.0,253.0,253.0,74.0,32.0,206.0,253.0,253.0,186.0,9.0,211.0,253.0,253.0,239.0,69.0,254.0,253.0,253.0,133.0,142.0,255.0,253.0,186.0,8.0,149.0,229.0,254.0,207.0,21.0,54.0,229.0,253.0,254.0,105.0,152.0,254.0,254.0,213.0,26.0,112.0,251.0,253.0,253.0,26.0,29.0,212.0,253.0,250.0,149.0,36.0,214.0,253.0,253.0,137.0,75.0,253.0,253.0,253.0,59.0,93.0,253.0,253.0,189.0,17.0,224.0,253.0,253.0,84.0,43.0,235.0,253.0,126.0,1.0,99.0,248.0,253.0,119.0,225.0,235.0,49.0])                                                                                                                                                                                                                                                                                                                                                                                                                                                                                                                                                                                                                                                                                                                                                                                                                                                                                                                                                                                                                                                                                                                                                                                                                                                                                                                                                                                                                                                                                      |\n",
      "|1.0  |(692,[99,100,101,127,128,129,130,154,155,156,157,158,182,183,184,185,186,209,210,211,212,213,237,238,239,240,241,264,265,266,267,268,269,291,292,293,294,295,296,297,314,315,316,317,318,319,320,321,322,323,324,325,342,343,344,345,346,347,348,349,350,351,352,353,371,372,373,374,378,379,380,381,406,407,408,409,435,436,437,463,464,465,491,492,493,514,515,516,517,518,519,520,521,522,523,524,525,539,540,541,542,543,544,545,546,547,548,549,550,551,552,553,566,567,568,569,570,571,572,573,574,575,576,577,578,579,580,581,594,595,596,597,598,599,600,622,623,624,625],[166.0,222.0,55.0,197.0,254.0,218.0,5.0,29.0,249.0,254.0,254.0,9.0,45.0,254.0,254.0,174.0,2.0,4.0,164.0,254.0,254.0,85.0,146.0,254.0,254.0,254.0,85.0,101.0,245.0,254.0,254.0,254.0,85.0,97.0,248.0,254.0,204.0,254.0,254.0,85.0,12.0,59.0,98.0,151.0,237.0,254.0,254.0,109.0,35.0,254.0,254.0,85.0,41.0,216.0,254.0,254.0,239.0,153.0,37.0,4.0,32.0,254.0,254.0,85.0,7.0,44.0,44.0,30.0,32.0,254.0,254.0,96.0,19.0,230.0,254.0,174.0,197.0,254.0,110.0,197.0,254.0,85.0,197.0,253.0,63.0,37.0,54.0,54.0,45.0,26.0,84.0,221.0,84.0,21.0,31.0,162.0,78.0,6.0,41.0,141.0,244.0,254.0,254.0,248.0,236.0,254.0,254.0,254.0,233.0,239.0,254.0,138.0,23.0,167.0,254.0,254.0,254.0,254.0,229.0,228.0,185.0,138.0,138.0,138.0,138.0,138.0,138.0,44.0,113.0,254.0,254.0,254.0,179.0,64.0,5.0,32.0,209.0,183.0,97.0])                                                                                                                                                                                                                                                                                                                                                                                                                                                                                                                                                                                                                                                                                                                                                                                                                                                                                                                                                                                                                                                           |\n",
      "|0.0  |(692,[154,155,156,157,158,159,182,183,184,185,186,187,188,189,208,209,210,211,212,213,214,215,216,217,236,237,238,239,240,241,242,243,244,245,264,265,266,267,268,269,270,271,272,273,290,291,292,293,294,295,298,299,300,301,318,319,320,321,322,326,327,328,329,346,347,348,349,350,353,354,355,356,357,374,375,376,377,378,381,382,383,384,385,402,403,404,405,406,409,410,411,412,413,429,430,431,432,437,438,439,440,456,457,458,459,460,464,465,466,467,468,484,485,486,487,488,491,492,493,494,495,512,513,514,515,516,519,520,521,522,523,540,541,542,543,544,546,547,548,549,550,551,568,569,570,571,572,573,574,575,576,577,596,597,598,599,600,601,602,603,604,605,624,625,626,627,628,629,630,631,632,633,653,654,655,656,657,658,682,683,684,685,686],[53.0,255.0,253.0,253.0,253.0,124.0,180.0,253.0,251.0,251.0,251.0,251.0,145.0,62.0,32.0,217.0,241.0,253.0,251.0,251.0,251.0,251.0,253.0,107.0,37.0,251.0,251.0,253.0,251.0,251.0,251.0,251.0,253.0,107.0,166.0,251.0,251.0,253.0,251.0,96.0,148.0,251.0,253.0,107.0,73.0,253.0,253.0,253.0,253.0,130.0,110.0,253.0,255.0,108.0,73.0,251.0,251.0,251.0,251.0,109.0,251.0,253.0,107.0,202.0,251.0,251.0,251.0,225.0,6.0,129.0,251.0,253.0,107.0,150.0,251.0,251.0,251.0,71.0,115.0,251.0,251.0,253.0,107.0,253.0,251.0,251.0,173.0,20.0,217.0,251.0,251.0,253.0,107.0,182.0,255.0,253.0,216.0,218.0,253.0,253.0,182.0,63.0,221.0,253.0,251.0,215.0,84.0,236.0,251.0,251.0,77.0,109.0,251.0,253.0,251.0,215.0,11.0,160.0,251.0,251.0,96.0,109.0,251.0,253.0,251.0,137.0,150.0,251.0,251.0,251.0,71.0,109.0,251.0,253.0,251.0,35.0,130.0,253.0,251.0,251.0,173.0,20.0,110.0,253.0,255.0,253.0,98.0,150.0,253.0,255.0,253.0,164.0,109.0,251.0,253.0,251.0,251.0,251.0,251.0,253.0,251.0,35.0,93.0,241.0,253.0,251.0,251.0,251.0,251.0,216.0,112.0,5.0,103.0,253.0,251.0,251.0,251.0,251.0,124.0,251.0,225.0,71.0,71.0])                                                                                                                                                                                                                                                                                                                                                                                                                                                                                                                                                                   |\n",
      "|0.0  |(692,[127,128,129,130,131,155,156,157,158,159,181,182,183,184,185,186,187,209,210,211,212,213,214,215,216,237,238,239,240,241,242,243,244,245,263,264,265,266,267,268,269,270,271,272,273,291,292,293,294,295,296,297,298,299,300,301,302,317,318,319,320,321,322,323,324,325,326,327,328,329,330,344,345,346,347,348,349,353,354,355,356,357,358,372,373,374,375,376,377,381,382,383,384,385,386,399,400,401,402,403,404,409,410,411,412,413,414,427,428,429,430,431,437,438,439,440,441,455,456,457,458,459,460,465,466,467,468,483,484,485,486,487,488,491,492,493,494,495,496,511,512,513,514,515,519,520,521,522,523,539,540,541,542,543,544,545,546,547,548,549,550,567,568,569,570,571,572,573,574,575,576,577,578,595,596,597,598,599,600,601,602,603,604,605,623,624,625,626,627,628,629,630,631,652,653,654,655,656,657,658],[73.0,253.0,227.0,73.0,21.0,73.0,251.0,251.0,251.0,174.0,16.0,166.0,228.0,251.0,251.0,251.0,122.0,62.0,220.0,253.0,251.0,251.0,251.0,251.0,79.0,79.0,231.0,253.0,251.0,251.0,251.0,251.0,232.0,77.0,145.0,253.0,253.0,253.0,255.0,253.0,253.0,253.0,253.0,255.0,108.0,144.0,251.0,251.0,251.0,253.0,168.0,107.0,169.0,251.0,253.0,189.0,20.0,27.0,89.0,236.0,251.0,235.0,215.0,164.0,15.0,6.0,129.0,251.0,253.0,251.0,35.0,47.0,211.0,253.0,251.0,251.0,142.0,37.0,251.0,251.0,253.0,251.0,35.0,109.0,251.0,253.0,251.0,251.0,142.0,11.0,148.0,251.0,253.0,251.0,164.0,11.0,150.0,253.0,255.0,211.0,25.0,11.0,150.0,253.0,255.0,211.0,25.0,140.0,251.0,251.0,253.0,107.0,37.0,251.0,251.0,211.0,46.0,190.0,251.0,251.0,253.0,128.0,5.0,37.0,251.0,251.0,51.0,115.0,251.0,251.0,253.0,188.0,20.0,32.0,109.0,129.0,251.0,173.0,103.0,217.0,251.0,251.0,201.0,30.0,73.0,251.0,251.0,251.0,71.0,166.0,253.0,253.0,255.0,149.0,73.0,150.0,253.0,255.0,253.0,253.0,143.0,140.0,251.0,251.0,253.0,251.0,251.0,251.0,251.0,253.0,251.0,230.0,61.0,190.0,251.0,251.0,253.0,251.0,251.0,251.0,251.0,242.0,215.0,55.0,21.0,189.0,251.0,253.0,251.0,251.0,251.0,173.0,103.0,31.0,200.0,253.0,251.0,96.0,71.0,20.0])                                                                                                                                                                                                                                                                                                                                                                                                          |\n",
      "|1.0  |(692,[154,155,156,181,182,183,184,185,209,210,211,212,213,237,238,239,240,241,265,266,267,268,293,294,295,296,321,322,323,324,349,350,351,352,377,378,379,380,404,405,406,407,408,432,433,434,435,460,461,462,463,488,489,490,491,516,517,518,519,544,545,546,547,572,573,574,575,600,601,602,603,628,629,630,631,656,657,658,659,684,685,686],[178.0,255.0,105.0,6.0,188.0,253.0,216.0,14.0,14.0,202.0,253.0,253.0,23.0,12.0,199.0,253.0,128.0,6.0,42.0,253.0,253.0,158.0,42.0,253.0,253.0,158.0,155.0,253.0,253.0,158.0,160.0,253.0,253.0,147.0,160.0,253.0,253.0,41.0,17.0,225.0,253.0,235.0,31.0,24.0,253.0,253.0,176.0,24.0,253.0,253.0,176.0,24.0,253.0,253.0,176.0,24.0,253.0,253.0,176.0,24.0,253.0,253.0,162.0,46.0,253.0,253.0,59.0,142.0,253.0,253.0,59.0,142.0,253.0,253.0,59.0,142.0,253.0,202.0,8.0,87.0,253.0,139.0])                                                                                                                                                                                                                                                                                                                                                                                                                                                                                                                                                                                                                                                                                                                                                                                                                                                                                                                                                                                                                                                                                                                                                                                                                                                                                                                                                                                                                                                                                                                                                                                                                    |\n",
      "|0.0  |(692,[153,154,155,156,157,158,159,160,161,179,180,181,182,183,184,185,186,187,188,189,190,206,207,208,209,210,211,212,213,214,215,216,217,218,232,233,234,235,236,237,238,239,240,241,242,243,244,245,246,260,261,262,263,264,265,266,267,268,269,270,271,272,273,274,287,288,289,290,291,292,293,294,295,296,297,298,299,300,301,302,315,316,317,318,319,320,321,323,324,325,326,327,328,329,330,342,343,344,345,346,354,355,356,357,358,370,371,372,373,374,382,383,384,385,386,398,399,400,401,402,410,411,412,413,414,425,426,427,428,429,439,440,441,442,453,454,455,456,467,468,469,470,481,482,483,484,495,496,497,498,508,509,510,511,512,521,522,523,524,525,526,537,538,539,540,549,550,551,552,553,565,566,567,568,576,577,578,579,580,581,593,594,595,596,597,598,599,600,601,602,603,604,605,606,607,608,621,622,623,624,625,626,627,628,629,630,631,632,633,634,650,651,652,653,654,655,656,657,658,659,660,661,678,679,680,681,682,683,684,685,686,687,688,689],[46.0,105.0,254.0,254.0,254.0,254.0,255.0,239.0,41.0,37.0,118.0,222.0,254.0,253.0,253.0,253.0,253.0,253.0,253.0,211.0,54.0,14.0,200.0,253.0,253.0,254.0,253.0,253.0,253.0,253.0,253.0,253.0,253.0,116.0,16.0,160.0,236.0,253.0,253.0,253.0,254.0,253.0,253.0,246.0,229.0,253.0,253.0,253.0,116.0,99.0,253.0,253.0,253.0,253.0,253.0,254.0,253.0,253.0,213.0,99.0,253.0,253.0,253.0,116.0,25.0,194.0,253.0,253.0,253.0,253.0,131.0,97.0,169.0,253.0,93.0,99.0,253.0,253.0,253.0,116.0,206.0,253.0,253.0,251.0,233.0,127.0,9.0,18.0,38.0,3.0,15.0,171.0,253.0,253.0,116.0,55.0,240.0,253.0,253.0,233.0,31.0,186.0,253.0,253.0,116.0,176.0,253.0,253.0,253.0,127.0,99.0,253.0,253.0,253.0,116.0,176.0,253.0,253.0,131.0,9.0,99.0,253.0,253.0,253.0,116.0,119.0,254.0,254.0,232.0,75.0,158.0,254.0,254.0,117.0,118.0,253.0,253.0,154.0,156.0,253.0,253.0,116.0,118.0,253.0,253.0,154.0,156.0,253.0,253.0,116.0,46.0,222.0,253.0,253.0,154.0,7.0,116.0,246.0,253.0,180.0,9.0,118.0,253.0,253.0,154.0,116.0,253.0,253.0,253.0,174.0,118.0,253.0,253.0,154.0,110.0,246.0,253.0,253.0,240.0,67.0,118.0,253.0,253.0,238.0,215.0,49.0,20.0,20.0,20.0,66.0,215.0,241.0,253.0,245.0,233.0,64.0,82.0,229.0,253.0,253.0,253.0,253.0,253.0,253.0,253.0,254.0,253.0,253.0,240.0,107.0,176.0,253.0,253.0,253.0,253.0,253.0,253.0,253.0,254.0,253.0,253.0,108.0,40.0,239.0,253.0,253.0,253.0,253.0,253.0,253.0,254.0,161.0,57.0,4.0])                                                      |\n",
      "|0.0  |(692,[151,152,153,154,155,177,178,179,180,181,182,183,184,185,186,187,188,205,206,207,208,209,210,211,212,213,214,215,216,217,232,233,234,235,236,237,238,239,240,241,242,243,244,245,259,260,261,262,263,264,265,266,267,268,269,270,271,272,273,274,287,288,289,290,291,292,293,294,296,297,298,299,300,301,302,315,316,317,318,319,320,321,326,327,328,329,330,342,343,344,345,346,347,348,349,356,357,358,359,370,371,372,373,374,375,384,385,386,387,398,399,400,401,412,413,414,415,426,427,428,429,441,442,443,454,455,456,457,469,470,471,482,483,484,485,496,497,498,499,510,511,512,513,514,524,525,526,527,538,539,540,541,542,543,552,553,554,555,566,567,568,569,570,571,572,573,579,580,581,582,583,595,596,597,598,599,600,601,602,606,607,608,609,610,624,625,626,627,628,629,630,631,632,633,634,635,636,637,638,653,654,655,656,657,658,659,660,661,662,663,664,684,685,686,687,688,689,690,691],[56.0,105.0,220.0,254.0,63.0,18.0,166.0,233.0,253.0,253.0,253.0,236.0,209.0,209.0,209.0,77.0,18.0,84.0,253.0,253.0,253.0,253.0,253.0,254.0,253.0,253.0,253.0,253.0,172.0,8.0,57.0,238.0,253.0,253.0,253.0,253.0,253.0,254.0,253.0,253.0,253.0,253.0,253.0,119.0,14.0,238.0,253.0,253.0,253.0,253.0,253.0,253.0,179.0,196.0,253.0,253.0,253.0,253.0,238.0,12.0,33.0,253.0,253.0,253.0,253.0,253.0,248.0,134.0,18.0,83.0,237.0,253.0,253.0,253.0,14.0,164.0,253.0,253.0,253.0,253.0,253.0,128.0,57.0,119.0,214.0,253.0,94.0,57.0,248.0,253.0,253.0,253.0,126.0,14.0,4.0,179.0,253.0,248.0,56.0,175.0,253.0,253.0,240.0,190.0,28.0,179.0,253.0,253.0,173.0,209.0,253.0,253.0,178.0,92.0,253.0,253.0,208.0,211.0,254.0,254.0,179.0,135.0,255.0,209.0,209.0,253.0,253.0,90.0,134.0,253.0,208.0,209.0,253.0,253.0,178.0,2.0,142.0,253.0,208.0,209.0,253.0,253.0,214.0,35.0,30.0,253.0,253.0,208.0,165.0,253.0,253.0,253.0,215.0,36.0,163.0,253.0,253.0,164.0,18.0,172.0,253.0,253.0,253.0,214.0,127.0,7.0,72.0,232.0,253.0,171.0,17.0,8.0,182.0,253.0,253.0,253.0,253.0,162.0,56.0,64.0,240.0,253.0,253.0,14.0,7.0,173.0,253.0,253.0,253.0,253.0,245.0,241.0,239.0,239.0,246.0,253.0,225.0,14.0,1.0,18.0,59.0,138.0,224.0,253.0,253.0,254.0,253.0,253.0,253.0,240.0,96.0,37.0,104.0,192.0,255.0,253.0,253.0,182.0,73.0])                                                                                                                                                                                                                   |\n",
      "|1.0  |(692,[129,130,131,132,157,158,159,160,184,185,186,187,188,212,213,214,215,216,240,241,242,243,267,268,269,270,271,295,296,297,298,322,323,324,325,349,350,351,352,353,376,377,378,379,380,404,405,406,407,408,431,432,433,434,435,458,459,460,461,462,486,487,488,489,490,514,515,516,517,541,542,543,544,545,569,570,571,572,596,597,598,599,600,601,624,625,626,627,628,629,653,654,655,656],[7.0,176.0,254.0,224.0,51.0,253.0,253.0,223.0,4.0,170.0,253.0,253.0,214.0,131.0,253.0,253.0,217.0,39.0,209.0,253.0,253.0,134.0,75.0,240.0,253.0,239.0,26.0,184.0,253.0,245.0,63.0,142.0,255.0,253.0,185.0,62.0,229.0,254.0,242.0,73.0,54.0,229.0,253.0,254.0,105.0,152.0,254.0,254.0,213.0,26.0,32.0,243.0,253.0,253.0,115.0,2.0,142.0,253.0,253.0,155.0,30.0,253.0,253.0,232.0,55.0,75.0,253.0,253.0,164.0,72.0,232.0,253.0,189.0,17.0,224.0,253.0,253.0,163.0,43.0,235.0,253.0,253.0,195.0,21.0,28.0,231.0,253.0,253.0,184.0,14.0,225.0,253.0,253.0,75.0])                                                                                                                                                                                                                                                                                                                                                                                                                                                                                                                                                                                                                                                                                                                                                                                                                                                                                                                                                                                                                                                                                                                                                                                                                                                                                                                                                                                                                                                                                             |\n",
      "|0.0  |(692,[154,155,156,157,158,181,182,183,184,185,186,187,207,208,209,210,211,212,213,214,215,216,217,234,235,236,237,238,239,240,241,242,243,244,245,262,263,264,265,266,267,268,269,270,271,272,273,289,290,291,292,293,294,295,296,297,298,299,300,301,302,317,318,319,320,321,322,323,324,325,326,327,328,329,330,344,345,346,347,348,349,350,351,352,353,354,355,356,357,358,359,371,372,373,374,375,376,377,378,379,380,383,384,385,386,387,398,399,400,401,402,403,406,407,408,411,412,413,414,415,426,427,428,429,430,431,439,440,441,442,443,453,454,455,456,457,458,459,467,468,469,470,471,480,481,482,483,484,485,486,487,488,489,493,494,495,496,497,498,499,508,509,510,511,512,513,514,515,516,517,521,522,523,524,525,536,537,538,539,540,548,549,550,551,552,553,564,565,566,567,574,575,576,577,578,592,593,594,595,596,602,603,604,605,606,620,621,622,623,624,625,626,627,628,629,630,631,632,633,649,650,651,652,653,654,655,656,657,658,659,678,679,680,681,682,683,684,685,686,687],[21.0,176.0,253.0,253.0,124.0,105.0,176.0,251.0,251.0,251.0,251.0,105.0,58.0,217.0,241.0,253.0,251.0,251.0,251.0,251.0,243.0,113.0,5.0,63.0,231.0,251.0,251.0,253.0,251.0,251.0,251.0,251.0,253.0,251.0,113.0,144.0,251.0,251.0,251.0,253.0,251.0,251.0,251.0,251.0,253.0,251.0,215.0,125.0,253.0,253.0,253.0,253.0,255.0,253.0,253.0,253.0,253.0,255.0,253.0,227.0,42.0,253.0,251.0,251.0,251.0,251.0,253.0,251.0,251.0,251.0,251.0,253.0,251.0,251.0,142.0,27.0,253.0,251.0,251.0,235.0,241.0,253.0,251.0,246.0,137.0,35.0,98.0,251.0,251.0,236.0,61.0,47.0,211.0,253.0,251.0,235.0,82.0,103.0,253.0,251.0,137.0,73.0,251.0,251.0,251.0,71.0,27.0,211.0,251.0,253.0,251.0,86.0,72.0,71.0,10.0,73.0,251.0,251.0,173.0,20.0,89.0,253.0,253.0,255.0,253.0,35.0,73.0,253.0,253.0,253.0,72.0,84.0,236.0,251.0,251.0,253.0,251.0,138.0,73.0,251.0,251.0,251.0,71.0,63.0,236.0,251.0,251.0,251.0,227.0,251.0,246.0,138.0,11.0,16.0,37.0,228.0,251.0,246.0,137.0,10.0,73.0,251.0,251.0,251.0,173.0,42.0,142.0,142.0,142.0,41.0,109.0,251.0,253.0,251.0,137.0,73.0,251.0,251.0,173.0,20.0,27.0,211.0,251.0,253.0,147.0,10.0,73.0,253.0,253.0,143.0,21.0,176.0,253.0,253.0,253.0,73.0,251.0,251.0,205.0,144.0,176.0,251.0,251.0,188.0,107.0,62.0,236.0,251.0,251.0,251.0,218.0,217.0,217.0,217.0,217.0,253.0,230.0,189.0,20.0,83.0,158.0,251.0,251.0,253.0,251.0,251.0,251.0,251.0,253.0,107.0,37.0,251.0,251.0,253.0,251.0,251.0,251.0,122.0,72.0,30.0])|\n",
      "|1.0  |(692,[150,151,152,153,154,155,156,157,158,186,187,210,211,212,214,215,238,239,240,241,242,243,266,267,268,269,270,271,293,294,295,296,297,298,299,321,322,323,324,326,327,349,350,351,352,376,377,378,379,380,404,405,406,407,408,432,433,434,435,459,460,461,462,463,467,487,488,489,490,494,495,515,516,517,518,522,523,543,544,545,546,550,551,571,572,573,598,599,600,601,626,627,628,629,654,655,656,682,683],[68.0,45.0,131.0,131.0,131.0,101.0,68.0,92.0,44.0,19.0,170.0,29.0,112.0,89.0,40.0,222.0,120.0,254.0,251.0,127.0,40.0,222.0,197.0,254.0,254.0,91.0,40.0,222.0,64.0,247.0,254.0,236.0,50.0,40.0,107.0,184.0,254.0,254.0,91.0,6.0,14.0,203.0,254.0,254.0,71.0,23.0,218.0,254.0,254.0,71.0,113.0,254.0,255.0,239.0,53.0,210.0,254.0,254.0,195.0,62.0,242.0,254.0,241.0,88.0,28.0,86.0,254.0,254.0,189.0,28.0,104.0,106.0,254.0,254.0,168.0,40.0,91.0,216.0,254.0,245.0,51.0,35.0,80.0,216.0,254.0,102.0,55.0,239.0,254.0,52.0,166.0,254.0,210.0,23.0,223.0,252.0,104.0,223.0,169.0])                                                                                                                                                                                                                                                                                                                                                                                                                                                                                                                                                                                                                                                                                                                                                                                                                                                                                                                                                                                                                                                                                                                                                                                                                                                                                                                                                                                                                                                     |\n",
      "|0.0  |(692,[124,125,126,127,128,150,151,152,153,154,155,156,157,177,178,179,180,181,183,184,185,186,203,204,205,206,207,212,213,214,215,216,230,231,232,233,240,241,242,243,244,245,258,259,260,268,269,272,273,274,285,286,287,301,302,303,313,314,330,331,332,341,342,359,360,369,370,387,388,397,398,415,416,425,426,443,444,453,454,455,471,472,481,482,483,499,500,510,511,512,527,528,538,539,540,541,554,555,556,567,568,569,570,581,582,583,597,598,599,600,601,606,607,608,609,610,611,626,627,628,629,630,631,632,633,634,635,636,637,638,656,657,658,659,660,661,662,663],[29.0,170.0,255.0,255.0,141.0,29.0,198.0,255.0,255.0,255.0,226.0,255.0,86.0,141.0,255.0,255.0,170.0,29.0,86.0,255.0,255.0,141.0,29.0,226.0,255.0,198.0,57.0,226.0,255.0,255.0,226.0,114.0,29.0,255.0,255.0,114.0,141.0,170.0,114.0,255.0,255.0,141.0,226.0,255.0,170.0,29.0,57.0,141.0,255.0,226.0,57.0,255.0,170.0,114.0,255.0,198.0,226.0,255.0,170.0,255.0,57.0,255.0,226.0,255.0,170.0,255.0,170.0,114.0,198.0,255.0,226.0,86.0,255.0,198.0,255.0,86.0,255.0,114.0,255.0,57.0,86.0,255.0,29.0,255.0,226.0,141.0,255.0,170.0,255.0,170.0,226.0,198.0,29.0,226.0,255.0,170.0,29.0,255.0,114.0,29.0,226.0,255.0,141.0,57.0,226.0,226.0,141.0,255.0,255.0,170.0,86.0,29.0,86.0,226.0,255.0,226.0,29.0,86.0,198.0,255.0,255.0,255.0,255.0,255.0,255.0,255.0,255.0,255.0,141.0,29.0,29.0,114.0,170.0,170.0,170.0,170.0,170.0,86.0])                                                                                                                                                                                                                                                                                                                                                                                                                                                                                                                                                                                                                                                                                                                                                                                                                                                                                                                                                                                                                                        |\n",
      "|0.0  |(692,[152,153,154,155,156,157,158,159,179,180,181,182,183,184,185,186,187,188,206,207,208,209,210,211,212,213,214,215,216,233,234,235,236,237,238,239,240,241,242,243,244,261,262,263,264,265,266,267,268,269,270,271,272,289,290,291,292,293,294,295,296,297,298,299,300,301,317,318,319,320,321,322,323,324,325,326,327,328,329,345,346,347,348,349,350,353,354,355,356,373,374,375,376,381,382,383,384,385,400,401,402,403,404,409,410,411,412,413,427,428,429,430,431,432,437,438,439,440,455,456,457,458,459,460,465,466,467,468,469,483,484,485,486,487,493,494,495,496,497,511,512,513,514,521,522,523,524,539,540,541,542,543,549,550,551,552,568,569,570,571,572,575,576,577,578,579,580,595,596,597,598,599,600,601,602,603,604,605,606,607,624,625,626,627,628,629,630,631,632,633,634,635,653,654,655,656,657,658,659,660,661,662,663,682,683,684,685,686,687,688,689,690],[203.0,254.0,252.0,252.0,252.0,214.0,51.0,20.0,62.0,221.0,252.0,250.0,250.0,250.0,252.0,250.0,160.0,20.0,62.0,211.0,250.0,252.0,250.0,250.0,250.0,252.0,250.0,250.0,49.0,41.0,221.0,250.0,250.0,252.0,250.0,250.0,250.0,252.0,250.0,128.0,10.0,254.0,252.0,252.0,252.0,254.0,252.0,252.0,252.0,254.0,252.0,252.0,90.0,150.0,190.0,250.0,250.0,252.0,250.0,250.0,169.0,171.0,250.0,250.0,250.0,82.0,31.0,191.0,250.0,250.0,252.0,189.0,100.0,20.0,172.0,250.0,250.0,250.0,80.0,213.0,250.0,250.0,250.0,212.0,29.0,252.0,250.0,250.0,250.0,92.0,252.0,252.0,252.0,51.0,252.0,252.0,252.0,203.0,82.0,252.0,250.0,250.0,169.0,132.0,250.0,250.0,250.0,121.0,92.0,231.0,252.0,250.0,159.0,20.0,252.0,250.0,250.0,250.0,30.0,211.0,252.0,250.0,221.0,40.0,90.0,250.0,250.0,250.0,163.0,31.0,213.0,254.0,232.0,80.0,92.0,252.0,252.0,212.0,163.0,151.0,250.0,252.0,149.0,252.0,250.0,250.0,49.0,60.0,221.0,252.0,210.0,60.0,252.0,250.0,250.0,49.0,202.0,252.0,250.0,221.0,40.0,123.0,202.0,252.0,250.0,250.0,49.0,123.0,243.0,255.0,252.0,252.0,252.0,254.0,252.0,252.0,252.0,254.0,252.0,100.0,121.0,171.0,250.0,250.0,250.0,252.0,250.0,250.0,250.0,252.0,250.0,100.0,20.0,160.0,250.0,250.0,252.0,250.0,250.0,250.0,252.0,189.0,40.0,20.0,170.0,250.0,252.0,250.0,128.0,49.0,49.0,29.0])                                                                                                                                                                                                                                                                            |\n",
      "|1.0  |(692,[97,98,99,124,125,126,127,128,151,152,153,154,155,156,178,179,180,181,182,183,205,206,207,208,209,210,211,233,234,235,236,237,238,239,261,262,263,264,265,266,267,289,290,291,292,293,294,295,321,322,323,349,350,351,377,378,379,405,406,407,432,433,434,460,461,462,467,468,488,489,490,493,494,495,496,516,517,518,519,520,521,522,523,524,543,544,545,546,547,548,549,550,551,552,570,571,572,573,574,575,576,577,578,579,580,598,599,600,601,602,603,604,605,606,626,627,628,629,630,631,632,633],[64.0,191.0,70.0,68.0,243.0,253.0,249.0,63.0,30.0,223.0,253.0,253.0,247.0,41.0,73.0,238.0,253.0,253.0,253.0,242.0,73.0,236.0,253.0,253.0,253.0,253.0,242.0,182.0,253.0,253.0,191.0,247.0,253.0,149.0,141.0,253.0,143.0,86.0,249.0,253.0,122.0,9.0,36.0,7.0,14.0,233.0,253.0,122.0,230.0,253.0,122.0,230.0,253.0,122.0,231.0,255.0,123.0,230.0,253.0,52.0,61.0,245.0,253.0,98.0,253.0,253.0,35.0,12.0,98.0,253.0,253.0,9.0,142.0,233.0,146.0,190.0,253.0,253.0,128.0,7.0,99.0,253.0,253.0,180.0,29.0,230.0,253.0,253.0,252.0,210.0,253.0,253.0,253.0,140.0,28.0,207.0,253.0,253.0,253.0,254.0,253.0,253.0,235.0,70.0,9.0,126.0,253.0,253.0,253.0,253.0,254.0,253.0,168.0,19.0,79.0,253.0,253.0,201.0,190.0,132.0,63.0,5.0])                                                                                                                                                                                                                                                                                                                                                                                                                                                                                                                                                                                                                                                                                                                                                                                                                                                                                                                                                                                                                                                                                                                                                                                                                  |\n",
      "|1.0  |(692,[124,125,126,152,153,154,181,182,183,209,210,211,237,238,239,265,266,267,293,294,295,321,322,323,349,350,351,377,378,379,405,406,407,433,434,435,461,462,463,489,490,491,516,517,518,519,544,545,546,547,572,573,574,600,601,602,628,629,630,656,657,658],[26.0,240.0,72.0,25.0,238.0,208.0,209.0,226.0,14.0,209.0,254.0,43.0,175.0,254.0,128.0,63.0,254.0,204.0,107.0,254.0,204.0,88.0,254.0,204.0,55.0,254.0,204.0,126.0,254.0,204.0,126.0,254.0,189.0,169.0,254.0,121.0,209.0,254.0,193.0,209.0,254.0,111.0,22.0,235.0,254.0,37.0,137.0,254.0,227.0,16.0,205.0,255.0,185.0,205.0,254.0,125.0,205.0,254.0,125.0,111.0,212.0,43.0])                                                                                                                                                                                                                                                                                                                                                                                                                                                                                                                                                                                                                                                                                                                                                                                                                                                                                                                                                                                                                                                                                                                                                                                                                                                                                                                                                                                                                                                                                                                                                                                                                                                                                                                                                                                                               |\n",
      "+-----+--------------------------------------------------------------------------------------------------------------------------------------------------------------------------------------------------------------------------------------------------------------------------------------------------------------------------------------------------------------------------------------------------------------------------------------------------------------------------------------------------------------------------------------------------------------------------------------------------------------------------------------------------------------------------------------------------------------------------------------------------------------------------------------------------------------------------------------------------------------------------------------------------------------------------------------------------------------------------------------------------------------------------------------------------------------------------------------------------------------------------------------------------------------------------------------------------------------------------------------------------------------------------------------------------------------------------------------------------------------------------------------------------------------------------------------------------------------------------------------------------------------------------------------------------------------------------------------------------------------------------------------------------------------------------------------------------------------------------------------------------------------------------------------------------------------------------------------------------------------------------------------------------------------------------------------------------------------------------------------------------------------------------------------------------------------------------------------------------------------------------------------------------------------------------------------------------------------------------------------------------------------------------------------------------------------------------------------------------------------------------------------------------------------------------------------------------------+\n",
      "only showing top 20 rows\n",
      "\n"
     ]
    },
    {
     "name": "stderr",
     "output_type": "stream",
     "text": [
      "22/05/06 16:21:32 WARN LibSVMFileFormat: 'numFeatures' option not specified, determining the number of features by going though the input. If you know the number in advance, please specify it via 'numFeatures' option to avoid the extra scan.\n"
     ]
    },
    {
     "data": {
      "text/plain": [
       "100"
      ]
     },
     "execution_count": 41,
     "metadata": {},
     "output_type": "execute_result"
    }
   ],
   "source": [
    "from pyspark.ml.classification import LogisticRegression\n",
    "\n",
    "# Load training data\n",
    "training = spark.read.format(\"libsvm\").load(\"../spark/dataset/sample_libsvm_data.txt\")\n",
    "training.show(truncate=False)\n",
    "training.count()"
   ]
  },
  {
   "cell_type": "code",
   "execution_count": 42,
   "metadata": {
    "slideshow": {
     "slide_type": "subslide"
    }
   },
   "outputs": [
    {
     "name": "stdout",
     "output_type": "stream",
     "text": [
      "Coefficients: (692,[272,300,323,350,351,378,379,405,406,407,428,433,434,435,455,456,461,462,483,484,489,490,496,511,512,517,539,540,568],[-7.520689871383919e-05,-8.115773146846793e-05,3.81469277184655e-05,0.0003776490540424334,0.0003405148366194397,0.0005514455157343138,0.0004085386116096917,0.0004197467332749463,0.0008119171358670058,0.0005027708372668769,-2.392926040659875e-05,0.000574504802090233,0.0009037546426803598,7.818229700243647e-05,-2.1787551952909664e-05,-3.402165821789336e-05,0.0004966517360637655,0.0008190557828370397,-8.017982139522407e-05,-2.7431694037833107e-05,0.00048108322262390053,0.0004840801762677892,-8.926472920005815e-06,-0.0003414881233042726,-8.950592574121137e-05,0.00048645469116892286,-8.478698005185866e-05,-0.00042347832158317754,-7.296535777631011e-05])\n",
      "Intercept: -0.5991460286401471\n"
     ]
    }
   ],
   "source": [
    "lr = LogisticRegression(maxIter=10, regParam=0.3, elasticNetParam=0.8)\n",
    "\n",
    "# Fit the model\n",
    "lrModel = lr.fit(training)\n",
    "\n",
    "# Print the coefficients and intercept for logistic regression\n",
    "print(\"Coefficients: \" + str(lrModel.coefficients))\n",
    "print(\"Intercept: \" + str(lrModel.intercept))"
   ]
  },
  {
   "cell_type": "code",
   "execution_count": 43,
   "metadata": {
    "slideshow": {
     "slide_type": "subslide"
    }
   },
   "outputs": [
    {
     "name": "stdout",
     "output_type": "stream",
     "text": [
      "Multinomial coefficients: 2 X 692 CSRMatrix\n",
      "(0,272) 0.0001\n",
      "(0,300) 0.0001\n",
      "(0,350) -0.0002\n",
      "(0,351) -0.0001\n",
      "(0,378) -0.0003\n",
      "(0,379) -0.0002\n",
      "(0,405) -0.0002\n",
      "(0,406) -0.0004\n",
      "(0,407) -0.0002\n",
      "(0,433) -0.0003\n",
      "(0,434) -0.0005\n",
      "(0,435) -0.0001\n",
      "(0,456) 0.0\n",
      "(0,461) -0.0002\n",
      "(0,462) -0.0004\n",
      "(0,483) 0.0001\n",
      "..\n",
      "..\n",
      "Multinomial intercepts: [0.27505875857180795,-0.27505875857180795]\n"
     ]
    }
   ],
   "source": [
    "# We can also use the multinomial family for binary classification\n",
    "mlr = LogisticRegression(maxIter=10, regParam=0.3, elasticNetParam=0.8, family=\"multinomial\")\n",
    "\n",
    "# Fit the model\n",
    "mlrModel = mlr.fit(training)\n",
    " \n",
    "# Print the coefficients and intercepts for logistic regression with multinomial family\n",
    "print(\"Multinomial coefficients: \" + str(mlrModel.coefficientMatrix))\n",
    "print(\"Multinomial intercepts: \" + str(mlrModel.interceptVector))"
   ]
  },
  {
   "cell_type": "code",
   "execution_count": 44,
   "metadata": {
    "slideshow": {
     "slide_type": "subslide"
    }
   },
   "outputs": [
    {
     "name": "stdout",
     "output_type": "stream",
     "text": [
      "objectiveHistory:\n",
      "0.6833149135741672\n",
      "0.6661906127558116\n",
      "0.6207433672479604\n",
      "0.6131541253123871\n",
      "0.6059149689952389\n",
      "0.592365624167825\n",
      "0.5898233082838021\n",
      "0.5868012627420285\n",
      "0.584443205871914\n",
      "0.583079006804174\n",
      "0.5807015754032356\n"
     ]
    }
   ],
   "source": [
    "# Extract the summary from the returned LogisticRegressionModel instance trained\n",
    "# in the earlier example\n",
    "trainingSummary = lrModel.summary\n",
    "\n",
    "# Obtain the objective per iteration\n",
    "objectiveHistory = trainingSummary.objectiveHistory\n",
    "print(\"objectiveHistory:\")\n",
    "for objective in objectiveHistory:\n",
    "    print(objective)"
   ]
  },
  {
   "cell_type": "code",
   "execution_count": 45,
   "metadata": {
    "slideshow": {
     "slide_type": "subslide"
    }
   },
   "outputs": [
    {
     "name": "stdout",
     "output_type": "stream",
     "text": [
      "+---+--------------------+\n",
      "|FPR|                 TPR|\n",
      "+---+--------------------+\n",
      "|0.0|                 0.0|\n",
      "|0.0|0.017543859649122806|\n",
      "|0.0| 0.03508771929824561|\n",
      "|0.0| 0.05263157894736842|\n",
      "|0.0| 0.07017543859649122|\n",
      "|0.0| 0.08771929824561403|\n",
      "|0.0| 0.10526315789473684|\n",
      "|0.0| 0.12280701754385964|\n",
      "|0.0| 0.14035087719298245|\n",
      "|0.0| 0.15789473684210525|\n",
      "|0.0| 0.17543859649122806|\n",
      "|0.0| 0.19298245614035087|\n",
      "|0.0| 0.21052631578947367|\n",
      "|0.0| 0.22807017543859648|\n",
      "|0.0| 0.24561403508771928|\n",
      "|0.0|  0.2631578947368421|\n",
      "|0.0|  0.2807017543859649|\n",
      "|0.0|  0.2982456140350877|\n",
      "|0.0|  0.3157894736842105|\n",
      "|0.0|  0.3333333333333333|\n",
      "+---+--------------------+\n",
      "only showing top 20 rows\n",
      "\n",
      "areaUnderROC: 1.0\n"
     ]
    }
   ],
   "source": [
    "# Obtain the receiver-operating characteristic as a dataframe and areaUnderROC.\n",
    "trainingSummary.roc.show()\n",
    "print(\"areaUnderROC: \" + str(trainingSummary.areaUnderROC))"
   ]
  },
  {
   "cell_type": "code",
   "execution_count": 46,
   "metadata": {
    "slideshow": {
     "slide_type": "subslide"
    }
   },
   "outputs": [
    {
     "data": {
      "text/plain": [
       "LogisticRegression_52eec3b7852a"
      ]
     },
     "execution_count": 46,
     "metadata": {},
     "output_type": "execute_result"
    }
   ],
   "source": [
    "# Set the model threshold to maximize F-Measure\n",
    "fMeasure = trainingSummary.fMeasureByThreshold\n",
    "maxFMeasure = fMeasure.groupBy().max('F-Measure').select('max(F-Measure)').head()\n",
    "bestThreshold = fMeasure.where(fMeasure['F-Measure'] == maxFMeasure['max(F-Measure)']) \\\n",
    "    .select('threshold').head()['threshold']\n",
    "lr.setThreshold(bestThreshold)"
   ]
  },
  {
   "cell_type": "markdown",
   "metadata": {
    "slideshow": {
     "slide_type": "slide"
    }
   },
   "source": [
    "# Clustering\n",
    "https://spark.apache.org/docs/latest/ml-clustering.html#clustering"
   ]
  },
  {
   "cell_type": "markdown",
   "metadata": {
    "slideshow": {
     "slide_type": "subslide"
    }
   },
   "source": [
    "K-means\n",
    "k-means is one of the most commonly used clustering algorithms that clusters the data points into a predefined number of clusters. The MLlib implementation includes a parallelized variant of the k-means++ method called kmeans||.\n",
    "\n",
    "KMeans is implemented as an Estimator and generates a KMeansModel as the base model."
   ]
  },
  {
   "cell_type": "markdown",
   "metadata": {
    "slideshow": {
     "slide_type": "subslide"
    }
   },
   "source": [
    "**Input Columns**\n",
    "\n",
    "|Param name\t|  Type(s)\t| Default\t| Description  | \n",
    "|-----------|  ------   | ----------| ----------   |\n",
    "|featuresCol|  Vector\t|\"features\"\t|Feature vector|\n",
    "\n",
    "**Output Columns**\n",
    "\n",
    "|Param name\t|  Type(s)\t| Default\t| Description  | \n",
    "|-----------|  ------   | ----------| ----------   |\n",
    "|predictionCol|\tInt|\t\"prediction\"|\tPredicted cluster center"
   ]
  },
  {
   "cell_type": "code",
   "execution_count": 47,
   "metadata": {
    "slideshow": {
     "slide_type": "subslide"
    }
   },
   "outputs": [
    {
     "name": "stderr",
     "output_type": "stream",
     "text": [
      "22/05/06 16:23:43 WARN LibSVMFileFormat: 'numFeatures' option not specified, determining the number of features by going though the input. If you know the number in advance, please specify it via 'numFeatures' option to avoid the extra scan.\n"
     ]
    },
    {
     "data": {
      "text/plain": [
       "6"
      ]
     },
     "execution_count": 47,
     "metadata": {},
     "output_type": "execute_result"
    }
   ],
   "source": [
    "from pyspark.ml.clustering import KMeans\n",
    "from pyspark.ml.evaluation import ClusteringEvaluator\n",
    "\n",
    "# Loads data.\n",
    "dataset = spark.read.format(\"libsvm\").load(\"../spark/dataset/sample_kmeans_data.txt\")\n",
    "#dataset.show(truncate=False)\n",
    "dataset.count()"
   ]
  },
  {
   "cell_type": "code",
   "execution_count": 48,
   "metadata": {
    "slideshow": {
     "slide_type": "subslide"
    }
   },
   "outputs": [
    {
     "name": "stdout",
     "output_type": "stream",
     "text": [
      "+-----+--------------------+----------+\n",
      "|label|            features|prediction|\n",
      "+-----+--------------------+----------+\n",
      "|  0.0|           (3,[],[])|         1|\n",
      "|  1.0|(3,[0,1,2],[0.1,0...|         1|\n",
      "|  2.0|(3,[0,1,2],[0.2,0...|         1|\n",
      "|  3.0|(3,[0,1,2],[9.0,9...|         0|\n",
      "|  4.0|(3,[0,1,2],[9.1,9...|         0|\n",
      "|  5.0|(3,[0,1,2],[9.2,9...|         0|\n",
      "+-----+--------------------+----------+\n",
      "\n"
     ]
    }
   ],
   "source": [
    "# Trains a k-means model.\n",
    "kmeans = KMeans().setK(2).setSeed(1)\n",
    "model = kmeans.fit(dataset)\n",
    "\n",
    "# Make predictions\n",
    "predictions = model.transform(dataset)\n",
    "predictions.show()"
   ]
  },
  {
   "cell_type": "code",
   "execution_count": 49,
   "metadata": {
    "slideshow": {
     "slide_type": "subslide"
    }
   },
   "outputs": [
    {
     "name": "stdout",
     "output_type": "stream",
     "text": [
      "Silhouette with squared euclidean distance = 0.9997530305375207\n"
     ]
    }
   ],
   "source": [
    "# Evaluate clustering by computing Silhouette score\n",
    "evaluator = ClusteringEvaluator()\n",
    "\n",
    "silhouette = evaluator.evaluate(predictions)\n",
    "print(\"Silhouette with squared euclidean distance = \" + str(silhouette))"
   ]
  },
  {
   "cell_type": "code",
   "execution_count": 50,
   "metadata": {
    "slideshow": {
     "slide_type": "subslide"
    }
   },
   "outputs": [
    {
     "name": "stdout",
     "output_type": "stream",
     "text": [
      "Cluster Centers: \n",
      "[9.1 9.1 9.1]\n",
      "[0.1 0.1 0.1]\n"
     ]
    }
   ],
   "source": [
    "# Shows the result.\n",
    "centers = model.clusterCenters()\n",
    "print(\"Cluster Centers: \")\n",
    "for center in centers:\n",
    "    print(center)"
   ]
  },
  {
   "cell_type": "markdown",
   "metadata": {
    "slideshow": {
     "slide_type": "slide"
    }
   },
   "source": [
    "# Collaborative Filtering \n",
    "https://spark.apache.org/docs/latest/ml-collaborative-filtering.html#collaborative-filtering-1"
   ]
  },
  {
   "cell_type": "markdown",
   "metadata": {
    "slideshow": {
     "slide_type": "subslide"
    }
   },
   "source": [
    "Example on demand"
   ]
  },
  {
   "cell_type": "markdown",
   "metadata": {
    "slideshow": {
     "slide_type": "slide"
    }
   },
   "source": [
    "![](https://media1.tenor.com/images/257a13ee5e204efdca4bb135a8f75a2e/tenor.gif?itemid=16088629)"
   ]
  },
  {
   "cell_type": "code",
   "execution_count": 51,
   "metadata": {
    "slideshow": {
     "slide_type": "fragment"
    }
   },
   "outputs": [],
   "source": [
    "spark.stop()"
   ]
  },
  {
   "cell_type": "markdown",
   "metadata": {
    "slideshow": {
     "slide_type": "slide"
    }
   },
   "source": [
    "# Biblio"
   ]
  },
  {
   "cell_type": "markdown",
   "metadata": {
    "slideshow": {
     "slide_type": "fragment"
    }
   },
   "source": [
    "* https://spark.apache.org/mllib/\n",
    "* https://spark.apache.org/docs/latest/ml-guide.html\n",
    "* https://blog.osservatori.net/it_it/machine-learning-come-funziona-apprendimento-automatico\n",
    "* https://towardsdatascience.com/hands-on-big-data-streaming-apache-spark-at-scale-fd89c15fa6b0\n",
    "* https://towardsdatascience.com/apache-spark-mllib-tutorial-ec6f1cb336a9\n",
    "* https://www.guru99.com/pyspark-tutorial.html\n",
    "* https://towardsdatascience.com/sentiment-analysis-simplified-ac30720a5827\n",
    "* http://web.cs.ucla.edu/~mtgarip/statistics.html\n",
    "* https://towardsdatascience.com/machine-learning-with-pyspark-and-mllib-solving-a-binary-classification-problem-96396065d2aa\n",
    "* https://runawayhorse001.github.io/LearningApacheSpark/index.html"
   ]
  }
 ],
 "metadata": {
  "celltoolbar": "Slideshow",
  "kernelspec": {
   "display_name": "Python 3 (ipykernel)",
   "language": "python",
   "name": "python3"
  },
  "language_info": {
   "codemirror_mode": {
    "name": "ipython",
    "version": 3
   },
   "file_extension": ".py",
   "mimetype": "text/x-python",
   "name": "python",
   "nbconvert_exporter": "python",
   "pygments_lexer": "ipython3",
   "version": "3.9.10"
  },
  "rise": {
   "enable_chalkboard": "true",
   "scroll": "true",
   "theme": "simple"
  }
 },
 "nbformat": 4,
 "nbformat_minor": 4
}
